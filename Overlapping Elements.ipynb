{
 "cells": [
  {
   "cell_type": "code",
   "execution_count": null,
   "id": "0d33cda1",
   "metadata": {},
   "outputs": [],
   "source": [
    "primeslist = []\n",
    "with open('primenumbers.txt') as primesfile:\n",
    "\tline = primesfile.readline()\n",
    "\twhile line:\n",
    "\t\tprimeslist.append(int(line))\n",
    "\t\tline = primesfile.readline()\n",
    "\n",
    "happieslist = []\n",
    "with open('happynumbers.txt') as happiesfile:\n",
    "\tline = happiesfile.readline()\n",
    "\twhile line:\n",
    "\t\thappieslist.append(int(line))\n",
    "\t\tline = happiesfile.readline()\n",
    "\n",
    "overlaplist = []\n",
    "for elem in primeslist:\n",
    "\tif elem in happieslist:\n",
    "\t\toverlaplist.append(elem)\n",
    "\t\t\n",
    "print(overlaplist)\n"
   ]
  }
 ],
 "metadata": {
  "kernelspec": {
   "display_name": "Python 3 (ipykernel)",
   "language": "python",
   "name": "python3"
  },
  "language_info": {
   "codemirror_mode": {
    "name": "ipython",
    "version": 3
   },
   "file_extension": ".py",
   "mimetype": "text/x-python",
   "name": "python",
   "nbconvert_exporter": "python",
   "pygments_lexer": "ipython3",
   "version": "3.11.3"
  }
 },
 "nbformat": 4,
 "nbformat_minor": 5
}
