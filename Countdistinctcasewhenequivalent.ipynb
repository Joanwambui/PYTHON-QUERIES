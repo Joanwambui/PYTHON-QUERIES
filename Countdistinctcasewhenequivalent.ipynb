{
 "cells": [
  {
   "cell_type": "code",
   "execution_count": null,
   "id": "4bd27710",
   "metadata": {},
   "outputs": [],
   "source": [
    "import pandas as pd\n",
    "import numpy as np\n",
    "\n",
    "merged = pd.merge(playbook_events, playbook_users, on=\"user_id\")\n",
    "mac_device = [\"macbook pro\", \"iphone 5s\", \"ipad air\"]\n",
    "df = (\n",
    "    merged[merged[\"device\"].isin(mac_device)]\n",
    "    .groupby(\"language\")[\"user_id\"]\n",
    "    .nunique()\n",
    "    .to_frame(\"n_apple_users\")\n",
    ")\n",
    "\n",
    "result = (\n",
    "    merged.groupby([\"language\"])[\"user_id\"]\n",
    "    .nunique()\n",
    "    .rename(\"n_total_users\")\n",
    "    .reset_index()\n",
    ")\n",
    "\n",
    "result.merge(df, how=\"outer\", left_on=\"language\", right_on=\"language\").fillna(\n",
    "    0\n",
    ").sort_values(\"n_total_users\", ascending=False)[\n",
    "    [\"language\", \"n_apple_users\", \"n_total_users\"]\n",
    "]\n"
   ]
  },
  {
   "cell_type": "code",
   "execution_count": null,
   "id": "a38a6d3f",
   "metadata": {},
   "outputs": [],
   "source": [
    "SELECT \n",
    "    PU.language, \n",
    "    COUNT(DISTINCT CASE WHEN device IN ('macbook pro', 'iphone 5s', 'ipad air') THEN PE.user_id END) AS Total_no_of_apple_users, \n",
    "    COUNT(DISTINCT PE.user_id) AS users_with_any_device\n",
    "FROM playbook_events PE\n",
    "JOIN playbook_users PU\n",
    "ON PE.user_id = PU.user_id\n",
    "GROUP BY PU.language\n",
    "ORDER BY users_with_any_device DESC\n",
    "\n"
   ]
  }
 ],
 "metadata": {
  "kernelspec": {
   "display_name": "Python 3 (ipykernel)",
   "language": "python",
   "name": "python3"
  },
  "language_info": {
   "codemirror_mode": {
    "name": "ipython",
    "version": 3
   },
   "file_extension": ".py",
   "mimetype": "text/x-python",
   "name": "python",
   "nbconvert_exporter": "python",
   "pygments_lexer": "ipython3",
   "version": "3.11.3"
  }
 },
 "nbformat": 4,
 "nbformat_minor": 5
}
