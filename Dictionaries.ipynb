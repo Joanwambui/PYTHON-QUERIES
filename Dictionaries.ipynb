
{
 "cells": [
  {
   "cell_type": "code",
   "execution_count": 1,
   "id": "b87279a0",
   "metadata": {},
   "outputs": [
    {
     "name": "stdout",
     "output_type": "stream",
     "text": [
      "Welcome to the birthday dictionary. We know the birthdays of:\n",
      "Albert Einstein\n",
      "Benjamin Franklin\n",
      "Ada Lovelace\n",
      "Donald Trump\n",
      "Rowan Atkinson\n",
      "Who's birthday do you want to look up?\n",
      "Albert Einstein\n",
      "Albert Einstein's birthday is 03/14/1879.\n"
     ]
    }
   ],
   "source": [
    "if __name__ == '__main__':\n",
    "\n",
    "    birthdays = {\n",
    "        'Albert Einstein': '03/14/1879',\n",
    "        'Benjamin Franklin': '01/17/1706',\n",
    "        'Ada Lovelace': '12/10/1815',\n",
    "        'Donald Trump': '06/14/1946',\n",
    "        'Rowan Atkinson': '01/6/1955'}\n",
    "\n",
    "    print('Welcome to the birthday dictionary. We know the birthdays of:')\n",
    "    for name in birthdays:\n",
    "        print(name)\n",
    "\n",
    "    print('Who\\'s birthday do you want to look up?')\n",
    "    name = input()\n",
    "    if name in birthdays:\n",
    "        print('{}\\'s birthday is {}.'.format(name, birthdays[name]))\n",
    "    else:\n",
    "        print('Sadly, we don\\'t have {}\\'s birthday.'.format(name))"
   ]
  },
  {
   "cell_type": "code",
   "execution_count": null,
   "id": "e1bde51a",
   "metadata": {},
   "outputs": [],
   "source": []
  }
 ],
 "metadata": {
  "kernelspec": {
   "display_name": "Python 3 (ipykernel)",
   "language": "python",
   "name": "python3"
  },
  "language_info": {
   "codemirror_mode": {
    "name": "ipython",
    "version": 3
   },
   "file_extension": ".py",
   "mimetype": "text/x-python",
   "name": "python",
   "nbconvert_exporter": "python",
   "pygments_lexer": "ipython3",
   "version": "3.11.3"
  }
 },
 "nbformat": 4,
 "nbformat_minor": 5
}
