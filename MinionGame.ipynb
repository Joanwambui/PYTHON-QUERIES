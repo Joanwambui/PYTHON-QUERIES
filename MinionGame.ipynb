{
 "cells": [
  {
   "cell_type": "code",
   "execution_count": null,
   "id": "410db157",
   "metadata": {},
   "outputs": [],
   "source": [
    "def minion_game(string):\n",
    "    # Vowels\n",
    "    VOWELS = [\"A\",\"E\",\"I\",\"O\",\"U\"]\n",
    "    index_consonants = []\n",
    "    index_vowels = []\n",
    "    STUART = 0\n",
    "    KEVIN = 0\n",
    "    string_len = len(list(string))\n",
    "    for i in range(string_len):\n",
    "        if string[i] not in VOWELS:\n",
    "            index_consonants.append(i)\n",
    "        else:\n",
    "            index_vowels.append(i)\n",
    "    for i in index_consonants:\n",
    "        STUART+= string_len-i\n",
    "    for i in index_vowels:\n",
    "        KEVIN += string_len-i\n",
    "    if STUART > KEVIN:\n",
    "        print(f\"Stuart {STUART}\")\n",
    "    elif STUART < KEVIN:\n",
    "        print(f\"Kevin {KEVIN}\")\n",
    "    else:\n",
    "        print(\"Draw\")\n",
    "        \n",
    "\n",
    "if __name__ == '__main__':\n",
    "    s = input()\n",
    "    minion_game(s)"
   ]
  },
  {
   "cell_type": "code",
   "execution_count": null,
   "id": "43e10e63",
   "metadata": {},
   "outputs": [],
   "source": [
    "Kevin and Stuart want to play the 'The Minion Game'.\n",
    "\n",
    "Game Rules\n",
    "\n",
    "Both players are given the same string, .\n",
    "Both players have to make substrings using the letters of the string .\n",
    "Stuart has to make words starting with consonants.\n",
    "Kevin has to make words starting with vowels.\n",
    "The game ends when both players have made all possible substrings.\n",
    "\n",
    "Scoring\n",
    "A player gets +1 point for each occurrence of the substring in the string .\n",
    "\n",
    "For Example:\n",
    "String  = BANANA\n",
    "Kevin's vowel beginning word = ANA\n",
    "Here, ANA occurs twice in BANANA. Hence, Kevin will get 2 Points.\n"
   ]
  }
 ],
 "metadata": {
  "kernelspec": {
   "display_name": "Python 3 (ipykernel)",
   "language": "python",
   "name": "python3"
  },
  "language_info": {
   "codemirror_mode": {
    "name": "ipython",
    "version": 3
   },
   "file_extension": ".py",
   "mimetype": "text/x-python",
   "name": "python",
   "nbconvert_exporter": "python",
   "pygments_lexer": "ipython3",
   "version": "3.11.3"
  }
 },
 "nbformat": 4,
 "nbformat_minor": 5
}
