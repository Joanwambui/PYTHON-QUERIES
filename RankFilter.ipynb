{
 "cells": [
  {
   "cell_type": "code",
   "execution_count": null,
   "id": "12200cba",
   "metadata": {},
   "outputs": [],
   "source": [
    "purchases['rn'] = purchases.groupby('customer_id')['transaction_id'].rank()\n",
    "\n",
    "correct_transactions = purchases[purchases['rn'] == 3].copy()\n",
    "\n",
    "correct_transactions['discounted_amount'] = round(correct_transactions['amount'] * 0.67, 2)\n",
    "\n",
    "correct_transactions[['customer_id', 'transaction_id', 'amount', 'discounted_amount']].sort_values('customer_id')\n",
    "\n",
    "\n",
    "\n",
    "WITH cte AS (\n",
    "    SELECT \n",
    "        customer_id,\n",
    "        transaction_id,\n",
    "        amount,\n",
    "        DENSE_RANK() OVER (PARTITION BY customer_id ORDER BY transaction_id) AS RNK\n",
    "    FROM Purchases\n",
    ")\n",
    "\n",
    "SELECT \n",
    "    customer_id,\n",
    "    transaction_id,\n",
    "    amount,\n",
    "    CASE \n",
    "        WHEN RNK = 3 THEN amount * 0.67  -- Applying discount when RNK is 3\n",
    "        ELSE amount  -- Keeping original amount when RNK is not 3\n",
    "    END AS discounted_amount\n",
    "FROM cte\n",
    "WHERE RNK = 3  -- Filtering to only get rows where RNK is 3\n",
    "ORDER BY customer_id ASC;\n",
    "\n",
    "\n",
    "SELECT customer_id, transaction_id, amount, amount * 0.67 AS discounted_amount\n",
    "FROM (\n",
    "    SELECT customer_id, transaction_id, amount, ROW_NUMBER() OVER (PARTITION BY customer_id ORDER BY transaction_id) AS rn\n",
    "    FROM purchases\n",
    ") t\n",
    "WHERE rn = 3\n",
    "ORDER BY customer_id ASC;"
   ]
  }
 ],
 "metadata": {
  "kernelspec": {
   "display_name": "Python 3 (ipykernel)",
   "language": "python",
   "name": "python3"
  },
  "language_info": {
   "codemirror_mode": {
    "name": "ipython",
    "version": 3
   },
   "file_extension": ".py",
   "mimetype": "text/x-python",
   "name": "python",
   "nbconvert_exporter": "python",
   "pygments_lexer": "ipython3",
   "version": "3.11.3"
  }
 },
 "nbformat": 4,
 "nbformat_minor": 5
}
