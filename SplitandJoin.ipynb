{
 "cells": [
  {
   "cell_type": "code",
   "execution_count": null,
   "id": "254e242d",
   "metadata": {},
   "outputs": [],
   "source": [
    "def split_and_join(line):\n",
    "    # Split the string by spaces\n",
    "    words = line.split(\" \")\n",
    "    # Join the words with a hyphen\n",
    "    result = \"-\".join(words)\n",
    "    return result\n",
    "\n",
    "# Sample Input\n",
    "sample_input = \"this is a string\"\n",
    "\n",
    "# Sample Output\n",
    "print(split_and_join(sample_input))  # Output: this-is-a-string"
   ]
  }
 ],
 "metadata": {
  "kernelspec": {
   "display_name": "Python 3 (ipykernel)",
   "language": "python",
   "name": "python3"
  },
  "language_info": {
   "codemirror_mode": {
    "name": "ipython",
    "version": 3
   },
   "file_extension": ".py",
   "mimetype": "text/x-python",
   "name": "python",
   "nbconvert_exporter": "python",
   "pygments_lexer": "ipython3",
   "version": "3.11.3"
  }
 },
 "nbformat": 4,
 "nbformat_minor": 5
}
