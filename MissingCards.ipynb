{
 "cells": [
  {
   "cell_type": "code",
   "execution_count": 14,
   "id": "029dffdb",
   "metadata": {},
   "outputs": [
    {
     "name": "stdout",
     "output_type": "stream",
     "text": [
      "CA\n"
     ]
    }
   ],
   "source": [
    "def missing_card(cards: str) -> str:\n",
    "    # Define all possible cards\n",
    "    colors = [\"S\", \"H\", \"D\", \"C\"]\n",
    "    values = [\"2\", \"3\", \"4\", \"5\", \"6\", \"7\", \"8\", \"9\", \"10\", \"J\", \"Q\", \"K\", \"A\"]\n",
    "    full_deck = {color + value for color in colors for value in values}\n",
    "    \n",
    "    # Split the input string into a set of cards\n",
    "    given_cards = set(cards.split())\n",
    "    \n",
    "    # Find the missing card by subtracting the given set from the full deck\n",
    "    missing = full_deck - given_cards\n",
    "    \n",
    "    # Return the missing card (should be the only element in the set)\n",
    "    return missing.pop()\n",
    "\n",
    "# Test case\n",
    "print(missing_card(\n",
    "    \"S2 S3 S4 S5 S6 S7 S8 S9 S10 SJ SQ SK SA \"\n",
    "    \"H2 H3 H4 H5 H6 H7 H8 H9 H10 HJ HQ HK HA \"\n",
    "    \"D2 D3 D4 D5 D6 D7 D8 D9 D10 DJ DQ DK DA \"\n",
    "    \"C2 C3 C4 C5 C6 C7 C8 C9 C10 CJ CQ CK\"\n",
    "))  # Output should be 'CA'\n"
   ]
  },
  {
   "cell_type": "code",
   "execution_count": null,
   "id": "fb91d212",
   "metadata": {},
   "outputs": [],
   "source": []
  }
 ],
 "metadata": {
  "kernelspec": {
   "display_name": "Python 3 (ipykernel)",
   "language": "python",
   "name": "python3"
  },
  "language_info": {
   "codemirror_mode": {
    "name": "ipython",
    "version": 3
   },
   "file_extension": ".py",
   "mimetype": "text/x-python",
   "name": "python",
   "nbconvert_exporter": "python",
   "pygments_lexer": "ipython3",
   "version": "3.11.3"
  }
 },
 "nbformat": 4,
 "nbformat_minor": 5
}
