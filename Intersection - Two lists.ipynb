{
 "cells": [
  {
   "cell_type": "code",
   "execution_count": null,
   "id": "89ee9977",
   "metadata": {},
   "outputs": [],
   "source": [
    "\n",
    "def intersection(a, b):\n",
    "  intersection_list = []\n",
    "  for value in a:\n",
    "    if value in b:\n",
    "      intersection_list.append(value)\n",
    "  return intersection_list \n",
    "\n",
    "# Example usage:\n",
    "a = [1, 2, 3, 4, 5]\n",
    "b = [0, 1, 3, 7]\n",
    "intersection_list = intersection(a, b)\n",
    "print(intersection_list)"
   ]
  }
 ],
 "metadata": {
  "kernelspec": {
   "display_name": "Python 3 (ipykernel)",
   "language": "python",
   "name": "python3"
  },
  "language_info": {
   "codemirror_mode": {
    "name": "ipython",
    "version": 3
   },
   "file_extension": ".py",
   "mimetype": "text/x-python",
   "name": "python",
   "nbconvert_exporter": "python",
   "pygments_lexer": "ipython3",
   "version": "3.11.3"
  }
 },
 "nbformat": 4,
 "nbformat_minor": 5
}
