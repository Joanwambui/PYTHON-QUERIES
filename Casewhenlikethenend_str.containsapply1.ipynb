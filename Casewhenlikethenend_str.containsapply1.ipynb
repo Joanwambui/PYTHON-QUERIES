{
 "cells": [
  {
   "cell_type": "code",
   "execution_count": null,
   "id": "c7d7cd49",
   "metadata": {},
   "outputs": [],
   "source": [
    "SELECT \n",
    "    post_date,\n",
    "    SUM(CASE WHEN FP.post_keywords LIKE '%spam%' THEN 1 ELSE 0 END ) * 100 / COUNT(*)\n",
    "FROM facebook_posts FP\n",
    "INNER JOIN facebook_post_views FPV\n",
    "ON FP.post_id = FPV.post_id\n",
    "GROUP BY post_date"
   ]
  },
  {
   "cell_type": "code",
   "execution_count": null,
   "id": "72285c32",
   "metadata": {},
   "outputs": [],
   "source": [
    "product_reviews['is_bad_review'] = product_reviews.review_text.str.contains('bad')\n",
    "product_reviews['is_bad_review'] = product_reviews['is_bad_review'].apply(lambda x: 1 if x == True else 0)\n",
    "result = product_reviews.groupby('review_date').agg({'is_bad_review': ['sum', 'count']}).reset_index()\n",
    "result.columns = ['review_date', 'bad_sum', 'review_count']\n",
    "result['bad_review_share'] = (result.bad_sum / result.review_count) * 100\n",
    "result.drop(['bad_sum', 'review_count'], axis=1, inplace=True)\n",
    "result\n"
   ]
  }
 ],
 "metadata": {
  "kernelspec": {
   "display_name": "Python 3 (ipykernel)",
   "language": "python",
   "name": "python3"
  },
  "language_info": {
   "codemirror_mode": {
    "name": "ipython",
    "version": 3
   },
   "file_extension": ".py",
   "mimetype": "text/x-python",
   "name": "python",
   "nbconvert_exporter": "python",
   "pygments_lexer": "ipython3",
   "version": "3.11.3"
  }
 },
 "nbformat": 4,
 "nbformat_minor": 5
}
