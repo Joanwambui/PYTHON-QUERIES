{
 "cells": [
  {
   "cell_type": "code",
   "execution_count": 2,
   "id": "c1c52f37",
   "metadata": {},
   "outputs": [],
   "source": [
    "def round_to_two_places(num):\n",
    "    return round(num,2)"
   ]
  },
  {
   "cell_type": "code",
   "execution_count": 3,
   "id": "88187825",
   "metadata": {},
   "outputs": [
    {
     "name": "stdout",
     "output_type": "stream",
     "text": [
      "3.16\n"
     ]
    }
   ],
   "source": [
    "print(round_to_two_places(3.1567))"
   ]
  },
  {
   "cell_type": "code",
   "execution_count": null,
   "id": "dc1dc295",
   "metadata": {},
   "outputs": [],
   "source": []
  }
 ],
 "metadata": {
  "kernelspec": {
   "display_name": "Python 3 (ipykernel)",
   "language": "python",
   "name": "python3"
  },
  "language_info": {
   "codemirror_mode": {
    "name": "ipython",
    "version": 3
   },
   "file_extension": ".py",
   "mimetype": "text/x-python",
   "name": "python",
   "nbconvert_exporter": "python",
   "pygments_lexer": "ipython3",
   "version": "3.11.3"
  }
 },
 "nbformat": 4,
 "nbformat_minor": 5
}
