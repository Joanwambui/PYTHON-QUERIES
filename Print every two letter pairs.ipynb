{
 "cells": [
  {
   "cell_type": "code",
   "execution_count": null,
   "id": "0aa737ef",
   "metadata": {},
   "outputs": [],
   "source": [
    "import string\n",
    "\n",
    "# Get all lowercase letters\n",
    "letters = string.ascii_lowercase\n",
    "\n",
    "# Generate and print all possible pairs\n",
    "for first in letters:\n",
    "    for second in letters:\n",
    "        print(f\"{first}{second}\")"
   ]
  }
 ],
 "metadata": {
  "kernelspec": {
   "display_name": "Python 3 (ipykernel)",
   "language": "python",
   "name": "python3"
  },
  "language_info": {
   "codemirror_mode": {
    "name": "ipython",
    "version": 3
   },
   "file_extension": ".py",
   "mimetype": "text/x-python",
   "name": "python",
   "nbconvert_exporter": "python",
   "pygments_lexer": "ipython3",
   "version": "3.11.3"
  }
 },
 "nbformat": 4,
 "nbformat_minor": 5
}
