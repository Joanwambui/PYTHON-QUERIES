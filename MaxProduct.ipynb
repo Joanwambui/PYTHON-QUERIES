{
 "cells": [
  {
   "cell_type": "code",
   "execution_count": null,
   "id": "d3967b7e",
   "metadata": {},
   "outputs": [],
   "source": [
    "def max_three(input):\n",
    "  input.sort()\n",
    "  return max(input[-1] * input[-2] * input[-3], input[0] * input[1] * input[-1])\n",
    "\n",
    "\t\n",
    "def max_three(input):\n",
    "  max_product = input[0] * input[1] * input[2]\n",
    "  for i in range(len(input)-2):\n",
    "    for j in range(i+1, len(input)-1):\n",
    "      for k in range(j+1, len(input)):\n",
    "        cur_product = input[i] * input[j] * input[k]\n",
    "        if cur_product > max_product:\n",
    "          max_product = cur_product\n",
    "  return max_product\t\n"
   ]
  }
 ],
 "metadata": {
  "kernelspec": {
   "display_name": "Python 3 (ipykernel)",
   "language": "python",
   "name": "python3"
  },
  "language_info": {
   "codemirror_mode": {
    "name": "ipython",
    "version": 3
   },
   "file_extension": ".py",
   "mimetype": "text/x-python",
   "name": "python",
   "nbconvert_exporter": "python",
   "pygments_lexer": "ipython3",
   "version": "3.11.3"
  }
 },
 "nbformat": 4,
 "nbformat_minor": 5
}
