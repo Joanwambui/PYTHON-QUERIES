{
 "cells": [
  {
   "cell_type": "code",
   "execution_count": null,
   "id": "7dfacaa8",
   "metadata": {},
   "outputs": [],
   "source": [
    "import pandas as pd\n",
    "\n",
    "bad_data['new_id'] = bad_data['id'].str[:5]\n",
    "bad_data['first_name'] = bad_data['id'].str[5:]\n",
    "\n",
    "bad_data[['new_id','first_name']]\n",
    "\n",
    "\n",
    "SELECT SUBSTRING(id, 1, 5) AS ID, SUBSTRING(id, 6, 100) AS First_Name\n",
    "FROM bad_data;"
   ]
  }
 ],
 "metadata": {
  "kernelspec": {
   "display_name": "Python 3 (ipykernel)",
   "language": "python",
   "name": "python3"
  },
  "language_info": {
   "codemirror_mode": {
    "name": "ipython",
    "version": 3
   },
   "file_extension": ".py",
   "mimetype": "text/x-python",
   "name": "python",
   "nbconvert_exporter": "python",
   "pygments_lexer": "ipython3",
   "version": "3.11.3"
  }
 },
 "nbformat": 4,
 "nbformat_minor": 5
}
