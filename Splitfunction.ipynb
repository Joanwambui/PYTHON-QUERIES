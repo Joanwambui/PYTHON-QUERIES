{
 "cells": [
  {
   "cell_type": "code",
   "execution_count": null,
   "id": "5633cedf",
   "metadata": {},
   "outputs": [],
   "source": [
    "whetting_your_appetite = \"Python is an easy to learn, powerful programming language. It has efficient high level data structures and a simple but effective approach to object oriented programming. This tutorial introduces the reader informally to the basic concepts and features of the Python language and system. For a description of standard objects and modules...\"\n",
    "\n",
    "def count_words(paragraph):\n",
    "    # Split the paragraph into words based on whitespace\n",
    "    words = paragraph.split()\n",
    "    # Count the number of words\n",
    "    num_words = len(words)\n",
    "    return num_words\n",
    "\n",
    "# Call the function and print the result\n",
    "num_words = count_words(whetting_your_appetite)\n",
    "print(f\"The number of words in the paragraph is: {num_words}\")\n"
   ]
  }
 ],
 "metadata": {
  "kernelspec": {
   "display_name": "Python 3 (ipykernel)",
   "language": "python",
   "name": "python3"
  },
  "language_info": {
   "codemirror_mode": {
    "name": "ipython",
    "version": 3
   },
   "file_extension": ".py",
   "mimetype": "text/x-python",
   "name": "python",
   "nbconvert_exporter": "python",
   "pygments_lexer": "ipython3",
   "version": "3.11.3"
  }
 },
 "nbformat": 4,
 "nbformat_minor": 5
}
