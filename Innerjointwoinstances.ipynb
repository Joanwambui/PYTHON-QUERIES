{
 "cells": [
  {
   "cell_type": "code",
   "execution_count": null,
   "id": "918f28a8",
   "metadata": {},
   "outputs": [],
   "source": [
    "import pandas as pd\n",
    "import numpy as np\n",
    "\n",
    "merged_df = pd.merge(airbnb_hosts, airbnb_guests,  how='left', left_on=['nationality','gender'], right_on = ['nationality','gender'])\n",
    "result = merged_df[['host_id','guest_id']].drop_duplicates()\n",
    "\n",
    "SELECT DISTINCT h.host_id,\n",
    "                g.guest_id\n",
    "FROM airbnb_hosts h\n",
    "INNER JOIN airbnb_guests g ON h.nationality = g.nationality\n",
    "WHERE h.gender = g.gender"
   ]
  }
 ],
 "metadata": {
  "kernelspec": {
   "display_name": "Python 3 (ipykernel)",
   "language": "python",
   "name": "python3"
  },
  "language_info": {
   "codemirror_mode": {
    "name": "ipython",
    "version": 3
   },
   "file_extension": ".py",
   "mimetype": "text/x-python",
   "name": "python",
   "nbconvert_exporter": "python",
   "pygments_lexer": "ipython3",
   "version": "3.11.3"
  }
 },
 "nbformat": 4,
 "nbformat_minor": 5
}
