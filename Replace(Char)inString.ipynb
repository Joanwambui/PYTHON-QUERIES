{
 "cells": [
  {
   "cell_type": "code",
   "execution_count": null,
   "id": "5fe4360c",
   "metadata": {},
   "outputs": [],
   "source": [
    "def mutate_string(string, position, character): \n",
    "    a = list(s) \n",
    "    a[int(i)] = str(c) \n",
    "    a= ''.join(a) \n",
    "    return a\n",
    "\n",
    "if name == 'main': \n",
    "    s = input() i, \n",
    "    c = input().split() \n",
    "    s_new = mutate_string(s, int(i), c) \n",
    "    print(s_new)"
   ]
  }
 ],
 "metadata": {
  "kernelspec": {
   "display_name": "Python 3 (ipykernel)",
   "language": "python",
   "name": "python3"
  },
  "language_info": {
   "codemirror_mode": {
    "name": "ipython",
    "version": 3
   },
   "file_extension": ".py",
   "mimetype": "text/x-python",
   "name": "python",
   "nbconvert_exporter": "python",
   "pygments_lexer": "ipython3",
   "version": "3.11.3"
  }
 },
 "nbformat": 4,
 "nbformat_minor": 5
}
