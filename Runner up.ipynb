if __name__ == '__main__':
    n = int(input())
    arr = map(int, input().split())
    
    
arr1 = list(set(arr))

arr2 = arr1.sort()


runner_up = arr1[-2]

print(runner_up)

'''
Given the participants' score sheet for your University Sports Day, you are required to find the runner-up score.
You are given  scores. Store them in a list and find the score of the runner-up.
'''
