{
 "cells": [
  {
   "cell_type": "code",
   "execution_count": 3,
   "id": "25340229",
   "metadata": {
    "scrolled": false
   },
   "outputs": [
    {
     "name": "stdout",
     "output_type": "stream",
     "text": [
      "2\n",
      "3\n"
     ]
    },
    {
     "ename": "IndexError",
     "evalue": "list index out of range",
     "output_type": "error",
     "traceback": [
      "\u001b[1;31m---------------------------------------------------------------------------\u001b[0m",
      "\u001b[1;31mIndexError\u001b[0m                                Traceback (most recent call last)",
      "Cell \u001b[1;32mIn[3], line 11\u001b[0m\n\u001b[0;32m      6\u001b[0m arr1 \u001b[38;5;241m=\u001b[39m \u001b[38;5;28mlist\u001b[39m(\u001b[38;5;28mset\u001b[39m(arr))\n\u001b[0;32m      8\u001b[0m arr2 \u001b[38;5;241m=\u001b[39m arr1\u001b[38;5;241m.\u001b[39msort()\n\u001b[1;32m---> 11\u001b[0m runner_up \u001b[38;5;241m=\u001b[39m \u001b[43marr1\u001b[49m\u001b[43m[\u001b[49m\u001b[38;5;241;43m-\u001b[39;49m\u001b[38;5;241;43m2\u001b[39;49m\u001b[43m]\u001b[49m\n\u001b[0;32m     13\u001b[0m \u001b[38;5;28mprint\u001b[39m(runner_up)\n\u001b[0;32m     15\u001b[0m \u001b[38;5;124;03m'''\u001b[39;00m\n\u001b[0;32m     16\u001b[0m \u001b[38;5;124;03mGiven the participants' score sheet for your University Sports Day, you are required to find the runner-up score.\u001b[39;00m\n\u001b[0;32m     17\u001b[0m \u001b[38;5;124;03mYou are given  scores. Store them in a list and find the score of the runner-up.\u001b[39;00m\n\u001b[0;32m     18\u001b[0m \u001b[38;5;124;03m'''\u001b[39;00m\n",
      "\u001b[1;31mIndexError\u001b[0m: list index out of range"
     ]
    }
   ],
   "source": [
    "if __name__ == '__main__':\n",
    "    n = int(input())\n",
    "    arr = map(int, input().split())\n",
    "    \n",
    "    \n",
    "arr1 = list(set(arr))\n",
    "\n",
    "arr2 = arr1.sort()\n",
    "\n",
    "\n",
    "runner_up = arr1[-2]\n",
    "\n",
    "print(runner_up)\n",
    "\n",
    "'''\n",
    "Given the participants' score sheet for your University Sports Day, you are required to find the runner-up score.\n",
    "You are given  scores. Store them in a list and find the score of the runner-up.\n",
    "'''"
   ]
  },
  {
   "cell_type": "code",
   "execution_count": null,
   "id": "35c4a1d5",
   "metadata": {},
   "outputs": [],
   "source": []
  }
 ],
 "metadata": {
  "kernelspec": {
   "display_name": "Python 3 (ipykernel)",
   "language": "python",
   "name": "python3"
  },
  "language_info": {
   "codemirror_mode": {
    "name": "ipython",
    "version": 3
   },
   "file_extension": ".py",
   "mimetype": "text/x-python",
   "name": "python",
   "nbconvert_exporter": "python",
   "pygments_lexer": "ipython3",
   "version": "3.11.3"
  }
 },
 "nbformat": 4,
 "nbformat_minor": 5
}
