
{
 "cells": [
  {
   "cell_type": "code",
   "execution_count": 15,
   "id": "fb966f27",
   "metadata": {},
   "outputs": [
    {
     "name": "stdout",
     "output_type": "stream",
     "text": [
      "How many Fibonacci numbers would you like to generate? 7\n",
      "[1, 1, 2, 3, 5, 8, 13]\n"
     ]
    }
   ],
   "source": [
    "def gen_fib():\n",
    "    count = int(input(\"How many Fibonacci numbers would you like to generate? \"))\n",
    "    i = 1\n",
    "    if count == 0:\n",
    "        fib = []\n",
    "    elif count == 1:\n",
    "        fib = [1]\n",
    "    elif count == 2:\n",
    "        fib = [1, 1]\n",
    "    elif count > 2:\n",
    "        fib = [1, 1]\n",
    "        while i < (count - 1):\n",
    "            fib.append(fib[i] + fib[i - 1])\n",
    "            i += 1\n",
    "    return fib\n",
    "\n",
    "# Call the function and print the result\n",
    "fibonacci_sequence = gen_fib()\n",
    "print(fibonacci_sequence)\n"
   ]
  },
  {
   "cell_type": "code",
   "execution_count": null,
   "id": "c66263ea",
   "metadata": {},
   "outputs": [],
   "source": []
  }
 ],
 "metadata": {
  "kernelspec": {
   "display_name": "Python 3 (ipykernel)",
   "language": "python",
   "name": "python3"
  },
  "language_info": {
   "codemirror_mode": {
    "name": "ipython",
    "version": 3
   },
   "file_extension": ".py",
   "mimetype": "text/x-python",
   "name": "python",
   "nbconvert_exporter": "python",
   "pygments_lexer": "ipython3",
   "version": "3.11.3"
  }
 },
 "nbformat": 4,
 "nbformat_minor": 5
}
