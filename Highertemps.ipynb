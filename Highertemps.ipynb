{
 "cells": [
  {
   "cell_type": "code",
   "execution_count": null,
   "id": "b9a01cc6",
   "metadata": {},
   "outputs": [],
   "source": [
    "temperatures['previous_temperature'] = temperatures['temperature'].shift(1)\n",
    "\n",
    "higher_temps = temperatures[temperatures['temperature'] > temperatures['previous_temperature']]\n",
    "\n",
    "higher_temp_prev = higher_temps[['date']]\n",
    "\n",
    "higher_temp_prev\n",
    "\n",
    "\n",
    "SELECT t1.date\n",
    "FROM temperatures t1\n",
    "INNER JOIN temperatures t2 ON DATEDIFF(day, t2.date, t1.date) = 1 AND t1.temperature > t2.temperature\n",
    "ORDER BY t1.date;"
   ]
  }
 ],
 "metadata": {
  "kernelspec": {
   "display_name": "Python 3 (ipykernel)",
   "language": "python",
   "name": "python3"
  },
  "language_info": {
   "codemirror_mode": {
    "name": "ipython",
    "version": 3
   },
   "file_extension": ".py",
   "mimetype": "text/x-python",
   "name": "python",
   "nbconvert_exporter": "python",
   "pygments_lexer": "ipython3",
   "version": "3.11.3"
  }
 },
 "nbformat": 4,
 "nbformat_minor": 5
}
