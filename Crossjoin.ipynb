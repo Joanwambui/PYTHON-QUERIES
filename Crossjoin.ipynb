
{
 "cells": [
  {
   "cell_type": "code",
   "execution_count": null,
   "id": "16956881",
   "metadata": {},
   "outputs": [],
   "source": [
    "import pandas as pd\n",
    "\n",
    "# Assuming bread_table and meat_table are DataFrames containing bread_name and meat_name columns respectively\n",
    "\n",
    "# Step 1: Merge the bread_table and meat_table using a Cartesian product (cross join)\n",
    "bread_meats = pd.merge(bread_table.assign(key=1), meat_table.assign(key=1), on='key').drop('key', axis=1)\n",
    "\n",
    "# Step 2: Sort the merged DataFrame by bread_name and then by meat_name\n",
    "sorted_bread_meats = bread_meats[['bread_name', 'meat_name']].sort_values(by=['bread_name', 'meat_name'])\n"
   ]
  }
 ],
 "metadata": {
  "kernelspec": {
   "display_name": "Python 3 (ipykernel)",
   "language": "python",
   "name": "python3"
  },
  "language_info": {
   "codemirror_mode": {
    "name": "ipython",
    "version": 3
   },
   "file_extension": ".py",
   "mimetype": "text/x-python",
   "name": "python",
   "nbconvert_exporter": "python",
   "pygments_lexer": "ipython3",
   "version": "3.11.3"
  }
 },
 "nbformat": 4,
 "nbformat_minor": 5
}
