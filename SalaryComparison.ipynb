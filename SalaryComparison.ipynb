{
 "cells": [
  {
   "cell_type": "code",
   "execution_count": null,
   "id": "600a3c7d",
   "metadata": {},
   "outputs": [],
   "source": [
    "# Import your libraries\n",
    "import pandas as pd\n",
    "\n",
    "# Start writing code\n",
    "employee.head()\n",
    "\n",
    "employee['avg_salary'] = employee.groupby('department')['salary'].transform('mean')\n",
    "employee[['department','first_name','salary','avg_salary']]\n",
    "\n",
    "#Compare each employee's salary with the average salary of the corresponding department.\n",
    "#Output the department, first name, and salary of employees along with the average salary of that department."
   ]
  }
 ],
 "metadata": {
  "kernelspec": {
   "display_name": "Python 3 (ipykernel)",
   "language": "python",
   "name": "python3"
  },
  "language_info": {
   "codemirror_mode": {
    "name": "ipython",
    "version": 3
   },
   "file_extension": ".py",
   "mimetype": "text/x-python",
   "name": "python",
   "nbconvert_exporter": "python",
   "pygments_lexer": "ipython3",
   "version": "3.11.3"
  }
 },
 "nbformat": 4,
 "nbformat_minor": 5
}
