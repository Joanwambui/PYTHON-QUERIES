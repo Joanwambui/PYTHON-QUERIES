{
 "cells": [
  {
   "cell_type": "code",
   "execution_count": 6,
   "id": "66aba721",
   "metadata": {},
   "outputs": [
    {
     "name": "stdout",
     "output_type": "stream",
     "text": [
      "What size of game board? 3\n",
      " ---  ---  --- \n",
      "|   |   |   |   \n",
      " ---  ---  --- \n",
      "|   |   |   |   \n",
      " ---  ---  --- \n",
      "|   |   |   |   \n",
      " ---  ---  --- \n"
     ]
    }
   ],
   "source": [
    "def print_horiz_line():\n",
    "    print(\" --- \" * board_size)\n",
    "\n",
    "def print_vert_line():\n",
    "    print(\"|   \" * (board_size + 1))\n",
    "\n",
    "if __name__ == \"__main__\":\n",
    "    board_size = int(input(\"What size of game board? \"))\n",
    "\n",
    "    for index in range(board_size):\n",
    "        print_horiz_line()\n",
    "        print_vert_line()\n",
    "    print_horiz_line()  # Corrected this line\n"
   ]
  },
  {
   "cell_type": "code",
   "execution_count": null,
   "id": "a3a83bb6",
   "metadata": {},
   "outputs": [],
   "source": []
  }
 ],
 "metadata": {
  "kernelspec": {
   "display_name": "Python 3 (ipykernel)",
   "language": "python",
   "name": "python3"
  },
  "language_info": {
   "codemirror_mode": {
    "name": "ipython",
    "version": 3
   },
   "file_extension": ".py",
   "mimetype": "text/x-python",
   "name": "python",
   "nbconvert_exporter": "python",
   "pygments_lexer": "ipython3",
   "version": "3.11.3"
  }
 },
 "nbformat": 4,
 "nbformat_minor": 5
}
