{
 "cells": [
  {
   "cell_type": "code",
   "execution_count": null,
   "id": "89f5eed1",
   "metadata": {},
   "outputs": [],
   "source": [
    "# Import your libraries\n",
    "import pandas as pd\n",
    "\n",
    "# Start writing code\n",
    "amazon_shipment.head()\n",
    "amazon_shipment['date']=pd.to_datetime(amazon_shipment['shipment_date'])\n",
    "amazon_shipment['year_month'] = amazon_shipment['date'].dt.strftime('%Y-%m')\n",
    "# Create a unique identifier by combining shipment_id and sub_id\n",
    "amazon_shipment['unique'] = (amazon_shipment['shipment_id'].astype(str) + \n",
    "                             amazon_shipment['sub_id'].astype(str)).astype(int)\n",
    "results = amazon_shipment.groupby('year_month', as_index=False)['unique'].count()"
   ]
  }
 ],
 "metadata": {
  "kernelspec": {
   "display_name": "Python 3 (ipykernel)",
   "language": "python",
   "name": "python3"
  },
  "language_info": {
   "codemirror_mode": {
    "name": "ipython",
    "version": 3
   },
   "file_extension": ".py",
   "mimetype": "text/x-python",
   "name": "python",
   "nbconvert_exporter": "python",
   "pygments_lexer": "ipython3",
   "version": "3.11.3"
  }
 },
 "nbformat": 4,
 "nbformat_minor": 5
}
