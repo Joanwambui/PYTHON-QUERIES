{
 "cells": [
  {
   "cell_type": "code",
   "execution_count": null,
   "id": "c8780f81",
   "metadata": {},
   "outputs": [],
   "source": [
    "WITH cte AS (\n",
    "    SELECT date, consumption\n",
    "    FROM fb_eu_energy E\n",
    "\n",
    "    UNION \n",
    "\n",
    "    SELECT date, consumption\n",
    "    FROM fb_asia_energy A\n",
    "\n",
    "    UNION \n",
    "\n",
    "    SELECT date, consumption\n",
    "    FROM fb_na_energy N\n",
    "),\n",
    "\n",
    "cte1 AS (\n",
    "    SELECT date, SUM(consumption) AS total\n",
    "    FROM cte\n",
    "    GROUP BY date\n",
    ")\n",
    "\n",
    "SELECT *\n",
    "FROM cte1\n",
    "WHERE total = (SELECT MAX(total) FROM cte1);"
   ]
  },
  {
   "cell_type": "code",
   "execution_count": null,
   "id": "bb490270",
   "metadata": {},
   "outputs": [],
   "source": [
    "import pandas as pd\n",
    "\n",
    "\n",
    "# Step 1: Combine all DataFrames\n",
    "df_combined = pd.concat([df_eu, df_asia, df_na], ignore_index=True)\n",
    "\n",
    "# Step 2: Group by date and calculate the total consumption per date\n",
    "df_total = df_combined.groupby('date', as_index=False)['consumption'].sum()\n",
    "df_total = df_total.rename(columns={'consumption': 'total'})\n",
    "\n",
    "# Step 3: Find the date with the maximum total consumption\n",
    "max_total = df_total['total'].max()\n",
    "result = df_total[df_total['total'] == max_total]\n",
    "\n",
    "print(result)\n"
   ]
  }
 ],
 "metadata": {
  "kernelspec": {
   "display_name": "Python 3 (ipykernel)",
   "language": "python",
   "name": "python3"
  },
  "language_info": {
   "codemirror_mode": {
    "name": "ipython",
    "version": 3
   },
   "file_extension": ".py",
   "mimetype": "text/x-python",
   "name": "python",
   "nbconvert_exporter": "python",
   "pygments_lexer": "ipython3",
   "version": "3.11.3"
  }
 },
 "nbformat": 4,
 "nbformat_minor": 5
}
