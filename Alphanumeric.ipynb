

{
 "cells": [
  {
   "cell_type": "code",
   "execution_count": null,
   "id": "edd74aa0",
   "metadata": {},
   "outputs": [],
   "source": [
    "if __name__ == '__main__':\n",
    "    s = input().strip()  # Read the input string and remove any surrounding whitespace\n",
    "\n",
    "    # Check for the presence of each type of character\n",
    "    has_alnum = any(char.isalnum() for char in s)\n",
    "    has_alpha = any(char.isalpha() for char in s)\n",
    "    has_digit = any(char.isdigit() for char in s)\n",
    "    has_lower = any(char.islower() for char in s)\n",
    "    has_upper = any(char.isupper() for char in s)\n",
    "\n",
    "    # Print the results\n",
    "    print(has_alnum)\n",
    "    print(has_alpha)\n",
    "    print(has_digit)\n",
    "    print(has_lower)\n",
    "    print(has_upper)\n"
   ]
  },
  {
   "cell_type": "code",
   "execution_count": null,
   "id": "6f610ded",
   "metadata": {},
   "outputs": [],
   "source": []
  }
 ],
 "metadata": {
  "kernelspec": {
   "display_name": "Python 3 (ipykernel)",
   "language": "python",
   "name": "python3"
  },
  "language_info": {
   "codemirror_mode": {
    "name": "ipython",
    "version": 3
   },
   "file_extension": ".py",
   "mimetype": "text/x-python",
   "name": "python",
   "nbconvert_exporter": "python",
   "pygments_lexer": "ipython3",
   "version": "3.11.3"
  }
 },
 "nbformat": 4,
 "nbformat_minor": 5
}
