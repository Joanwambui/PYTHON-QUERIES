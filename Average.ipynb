{
 "cells": [
  {
   "cell_type": "code",
   "execution_count": null,
   "id": "536c22b2",
   "metadata": {},
   "outputs": [],
   "source": [
    "import pandas as pd\n",
    "import numpy as np\n",
    "\n",
    "result = airbnb_search_details.groupby(['city','property_type'])['bedrooms','bathrooms']\n",
    ".mean().reset_index().rename(index=str, columns={\"bedrooms\": \"n_bedrooms_avg\", \"bathrooms\": \"n_bathrooms_avg\"})"
   ]
  },
  {
   "cell_type": "code",
   "execution_count": null,
   "id": "6eed42ee",
   "metadata": {},
   "outputs": [],
   "source": [
    "SELECT company,\n",
    "       continent\n",
    "FROM forbes_global_2010_2014\n",
    "WHERE sector = 'Financials'\n",
    "  AND profits =\n",
    "    (SELECT MAX(profits)\n",
    "     FROM forbes_global_2010_2014\n",
    "     WHERE sector = 'Financials')"
   ]
  }
 ],
 "metadata": {
  "kernelspec": {
   "display_name": "Python 3 (ipykernel)",
   "language": "python",
   "name": "python3"
  },
  "language_info": {
   "codemirror_mode": {
    "name": "ipython",
    "version": 3
   },
   "file_extension": ".py",
   "mimetype": "text/x-python",
   "name": "python",
   "nbconvert_exporter": "python",
   "pygments_lexer": "ipython3",
   "version": "3.11.3"
  }
 },
 "nbformat": 4,
 "nbformat_minor": 5
}
