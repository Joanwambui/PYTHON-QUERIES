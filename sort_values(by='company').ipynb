{
 "cells": [
  {
   "cell_type": "code",
   "execution_count": null,
   "id": "befde4a0",
   "metadata": {},
   "outputs": [],
   "source": [
    "tech_layoffs['percentage_laid_off'] = round((tech_layoffs['employees_fired'] / tech_layoffs['company_size']) * 100, 2)\n",
    "\n",
    "tech_layoffs[['company', 'percentage_laid_off']].sort_values(by = 'company')\n",
    "\n",
    "\n",
    "SELECT company, ROUND(CAST(employees_fired AS DECIMAL) / company_size * 100, 2) AS Percentage_Laid_Off\n",
    "FROM tech_layoffs\n",
    "ORDER BY company ASC;"
   ]
  }
 ],
 "metadata": {
  "kernelspec": {
   "display_name": "Python 3 (ipykernel)",
   "language": "python",
   "name": "python3"
  },
  "language_info": {
   "codemirror_mode": {
    "name": "ipython",
    "version": 3
   },
   "file_extension": ".py",
   "mimetype": "text/x-python",
   "name": "python",
   "nbconvert_exporter": "python",
   "pygments_lexer": "ipython3",
   "version": "3.11.3"
  }
 },
 "nbformat": 4,
 "nbformat_minor": 5
}
