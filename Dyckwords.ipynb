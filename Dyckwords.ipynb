
{
 "cells": [
  {
   "cell_type": "code",
   "execution_count": 1,
   "id": "3e51265f",
   "metadata": {},
   "outputs": [
    {
     "name": "stdout",
     "output_type": "stream",
     "text": [
      "True\n",
      "False\n",
      "False\n"
     ]
    }
   ],
   "source": [
    "def is_a_dyck_word(word: str) -> bool:\n",
    "    # Early exit if the length of the word is odd, as it can't be balanced\n",
    "    if len(word) % 2 != 0:\n",
    "        return False\n",
    "\n",
    "    # Initialize a balance counter\n",
    "    balance = 0\n",
    "    \n",
    "    for char in word:\n",
    "        # Increment balance for an opening parenthesis\n",
    "        if char == '(':\n",
    "            balance += 1\n",
    "        # Decrement balance for a closing parenthesis\n",
    "        elif char == ')':\n",
    "            balance -= 1\n",
    "        \n",
    "        # If balance is negative at any point, the word is not a Dyck word\n",
    "        if balance < 0:\n",
    "            return False\n",
    "    \n",
    "    # The word is a Dyck word if the final balance is zero\n",
    "    return balance == 0\n",
    "\n",
    "# Example usage\n",
    "print(is_a_dyck_word(\"(())\"))  # True\n",
    "print(is_a_dyck_word(\"(()\"))   # False\n",
    "print(is_a_dyck_word(\")(\"))    # False\n"
   ]
  },
  {
   "cell_type": "code",
   "execution_count": null,
   "id": "dced4d6d",
   "metadata": {},
   "outputs": [],
   "source": []
  }
 ],
 "metadata": {
  "kernelspec": {
   "display_name": "Python 3 (ipykernel)",
   "language": "python",
   "name": "python3"
  },
  "language_info": {
   "codemirror_mode": {
    "name": "ipython",
    "version": 3
   },
   "file_extension": ".py",
   "mimetype": "text/x-python",
   "name": "python",
   "nbconvert_exporter": "python",
   "pygments_lexer": "ipython3",
   "version": "3.11.3"
  }
 },
 "nbformat": 4,
 "nbformat_minor": 5
}
