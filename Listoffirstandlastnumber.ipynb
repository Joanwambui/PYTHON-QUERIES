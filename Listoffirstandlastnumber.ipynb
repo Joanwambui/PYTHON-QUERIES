{
 "cells": [
  {
   "cell_type": "code",
   "execution_count": 11,
   "id": "7afc45d4",
   "metadata": {},
   "outputs": [
    {
     "name": "stdout",
     "output_type": "stream",
     "text": [
      "[11, 5, 24, 17, 16, 1, 9, 13, 8, 15]\n",
      "[11, 15]\n"
     ]
    }
   ],
   "source": [
    "import random\n",
    "\n",
    "def Get_random_list():\n",
    "    list_numbers = list(random.sample(range(30), random.randint(2, 10)))\n",
    "    return list_numbers\n",
    "\n",
    "x = Get_random_list()\n",
    "print(x)\n",
    "\n",
    "result = []\n",
    "def filast(x):\n",
    "    if x:\n",
    "        result.append(x[0])  # Append the first element\n",
    "        result.append(x[-1])  # Append the last element\n",
    "\n",
    "filast(x)\n",
    "print(result)\n"
   ]
  },
  {
   "cell_type": "code",
   "execution_count": null,
   "id": "7af73527",
   "metadata": {},
   "outputs": [],
   "source": []
  }
 ],
 "metadata": {
  "kernelspec": {
   "display_name": "Python 3 (ipykernel)",
   "language": "python",
   "name": "python3"
  },
  "language_info": {
   "codemirror_mode": {
    "name": "ipython",
    "version": 3
   },
   "file_extension": ".py",
   "mimetype": "text/x-python",
   "name": "python",
   "nbconvert_exporter": "python",
   "pygments_lexer": "ipython3",
   "version": "3.11.3"
  }
 },
 "nbformat": 4,
 "nbformat_minor": 5
}
