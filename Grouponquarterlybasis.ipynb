{
 "cells": [
  {
   "cell_type": "code",
   "execution_count": null,
   "id": "0ec74cf0",
   "metadata": {},
   "outputs": [],
   "source": [
    "transactions['quarter'] = pd.to_datetime(transactions['transaction_date']).dt.to_period('Q')\n",
    "transactions['unique_key'] = transactions['transaction_id'].astype(str) + '_' + transactions['customer_id'].astype(str)\n",
    "result = transactions.groupby(['customer_id', 'quarter'])['transaction_amount'].sum().reset_index()\n"
   ]
  }
 ],
 "metadata": {
  "kernelspec": {
   "display_name": "Python 3 (ipykernel)",
   "language": "python",
   "name": "python3"
  },
  "language_info": {
   "codemirror_mode": {
    "name": "ipython",
    "version": 3
   },
   "file_extension": ".py",
   "mimetype": "text/x-python",
   "name": "python",
   "nbconvert_exporter": "python",
   "pygments_lexer": "ipython3",
   "version": "3.11.3"
  }
 },
 "nbformat": 4,
 "nbformat_minor": 5
}
