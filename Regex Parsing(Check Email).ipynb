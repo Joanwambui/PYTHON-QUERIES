{
 "cells": [
  {
   "cell_type": "code",
   "execution_count": null,
   "id": "0a00bc61",
   "metadata": {},
   "outputs": [],
   "source": [
    "import email.utils\n",
    "import re \n",
    "\n",
    "\n",
    "def is_valid_email(input_str):\n",
    "    name, email_addr = email.utils.parseaddr(input_str) \n",
    "    is_valid = re.match('[a-z][\\w\\.-]*@[a-z]+\\.[a-z]{1,3}$', email_addr,flags=re.IGNORECASE)\n",
    "    if is_valid:\n",
    "        return email.utils.formataddr((name, email_addr))    \n",
    "    \n",
    "if __name__==\"__main__\":\n",
    "    n = int(input())\n",
    "    for i in range(n):\n",
    "        input_str = input()\n",
    "        result = is_valid_email(input_str)\n",
    "        if result:\n",
    "            print(result)"
   ]
  },
  {
   "cell_type": "code",
   "execution_count": null,
   "id": "b4d1430f",
   "metadata": {},
   "outputs": [],
   "source": [
    "'''\n",
    "A valid email address meets the following criteria:\n",
    "\n",
    "It's composed of a username, domain name, and extension assembled in this format: username@domain.extension\n",
    "The username starts with an English alphabetical character, and any subsequent characters consist of one or more of the following: alphanumeric characters, -,., and _.\n",
    "The domain and extension contain only English alphabetical characters.\n",
    "The extension is , , or  characters in length.\n",
    "Given  pairs of names and email addresses as input, print each name and email address pair having a valid email address on a new line.\n",
    "\n",
    "Hint: Try using Email.utils() to complete this challenge. \n",
    "'''"
   ]
  }
 ],
 "metadata": {
  "kernelspec": {
   "display_name": "Python 3 (ipykernel)",
   "language": "python",
   "name": "python3"
  },
  "language_info": {
   "codemirror_mode": {
    "name": "ipython",
    "version": 3
   },
   "file_extension": ".py",
   "mimetype": "text/x-python",
   "name": "python",
   "nbconvert_exporter": "python",
   "pygments_lexer": "ipython3",
   "version": "3.11.3"
  }
 },
 "nbformat": 4,
 "nbformat_minor": 5
}
