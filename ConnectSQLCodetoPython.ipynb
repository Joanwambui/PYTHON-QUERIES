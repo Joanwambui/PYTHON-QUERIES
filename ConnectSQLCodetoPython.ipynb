{
 "cells": [
  {
   "cell_type": "code",
   "execution_count": null,
   "id": "21d1193a",
   "metadata": {},
   "outputs": [],
   "source": [
    "import sqlite3\n",
    "import pandas as pd\n",
    "\n",
    "# Connect to the SQLite database (or any other database)\n",
    "conn = sqlite3.connect('your_database.db')\n",
    "\n",
    "# Write the query\n",
    "query = \"\"\"\n",
    "SELECT event_name, COUNT(event_name) AS event_count\n",
    "FROM playbook_events\n",
    "WHERE device = 'macbook pro'\n",
    "GROUP BY event_name\n",
    "ORDER BY COUNT(event_name) DESC\n",
    "\"\"\"\n",
    "\n",
    "# Execute the query and load the result into a pandas DataFrame\n",
    "df = pd.read_sql_query(query, conn)\n",
    "\n",
    "# Display the result\n",
    "print(df)\n",
    "\n",
    "# Close the connection\n",
    "conn.close()\n"
   ]
  }
 ],
 "metadata": {
  "kernelspec": {
   "display_name": "Python 3 (ipykernel)",
   "language": "python",
   "name": "python3"
  },
  "language_info": {
   "codemirror_mode": {
    "name": "ipython",
    "version": 3
   },
   "file_extension": ".py",
   "mimetype": "text/x-python",
   "name": "python",
   "nbconvert_exporter": "python",
   "pygments_lexer": "ipython3",
   "version": "3.11.3"
  }
 },
 "nbformat": 4,
 "nbformat_minor": 5
}
