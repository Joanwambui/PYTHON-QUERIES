{
 "cells": [
  {
   "cell_type": "code",
   "execution_count": 1,
   "id": "7cfaf775",
   "metadata": {},
   "outputs": [],
   "source": [
    "def flatten(a_list):\n",
    "    result = []\n",
    "    for element in a_list:\n",
    "        if isinstance(element, list):  # Check if the element is a list\n",
    "            result.extend(flatten(element))  # Recursively flatten the sublist\n",
    "        else:\n",
    "            result.append(element)  # Add non-list elements directly\n",
    "    return result\n"
   ]
  },
  {
   "cell_type": "code",
   "execution_count": null,
   "id": "1fd6c324",
   "metadata": {},
   "outputs": [],
   "source": []
  }
 ],
 "metadata": {
  "kernelspec": {
   "display_name": "Python 3 (ipykernel)",
   "language": "python",
   "name": "python3"
  },
  "language_info": {
   "codemirror_mode": {
    "name": "ipython",
    "version": 3
   },
   "file_extension": ".py",
   "mimetype": "text/x-python",
   "name": "python",
   "nbconvert_exporter": "python",
   "pygments_lexer": "ipython3",
   "version": "3.11.3"
  }
 },
 "nbformat": 4,
 "nbformat_minor": 5
}
