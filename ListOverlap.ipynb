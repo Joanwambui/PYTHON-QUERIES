{
 "cells": [
  {
   "cell_type": "code",
   "execution_count": 18,
   "id": "9613a3e6",
   "metadata": {},
   "outputs": [
    {
     "name": "stdout",
     "output_type": "stream",
     "text": [
      "Enter elements of the first list separated by spaces: 1 22 2 3 5\n",
      "Enter elements of the second list separated by spaces: 2 44 6 7 2 1 22\n",
      "Common elements: ['1', '22', '2']\n"
     ]
    }
   ],
   "source": [
    "def comparison(list1, list2):\n",
    "    result = []\n",
    "    for i in list1:\n",
    "        if i in list2:\n",
    "            result.append(i)\n",
    "    return result\n",
    "\n",
    "# Get input from the user for list1\n",
    "user_input1 = input(\"Enter elements of the first list separated by spaces: \")\n",
    "user_list = user_input1.split()\n",
    "\n",
    "# Get input from the user for list2\n",
    "user_input2 = input(\"Enter elements of the second list separated by spaces: \")\n",
    "user_list2 = user_input2.split()\n",
    "\n",
    "# Call the function and print the output\n",
    "output = comparison(user_list, user_list2)\n",
    "print(\"Common elements:\", output)\n"
   ]
  },
  {
   "cell_type": "code",
   "execution_count": null,
   "id": "b204c10a",
   "metadata": {},
   "outputs": [],
   "source": []
  }
 ],
 "metadata": {
  "kernelspec": {
   "display_name": "Python 3 (ipykernel)",
   "language": "python",
   "name": "python3"
  },
  "language_info": {
   "codemirror_mode": {
    "name": "ipython",
    "version": 3
   },
   "file_extension": ".py",
   "mimetype": "text/x-python",
   "name": "python",
   "nbconvert_exporter": "python",
   "pygments_lexer": "ipython3",
   "version": "3.11.3"
  }
 },
 "nbformat": 4,
 "nbformat_minor": 5
}
