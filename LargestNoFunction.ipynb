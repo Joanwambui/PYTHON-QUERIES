{
 "cells": [
  {
   "cell_type": "code",
   "execution_count": 12,
   "id": "a24900d4",
   "metadata": {},
   "outputs": [
    {
     "name": "stdout",
     "output_type": "stream",
     "text": [
      "1871655963\n"
     ]
    }
   ],
   "source": [
    "def largestno(the_list):\n",
    "    largest = the_list[0]  # Start with the first element as the largest\n",
    "    for num in the_list:\n",
    "        if num > largest:\n",
    "            largest = num  # Update largest if the current number is greater\n",
    "    return largest\n",
    "\n",
    "# Test the function\n",
    "the_list = [\n",
    "    143266561,\n",
    "    1738152473,\n",
    "    312377936,\n",
    "    1027708881,\n",
    "    1871655963,\n",
    "    1495785517,\n",
    "    1858250798,\n",
    "    1693786723,\n",
    "    374455497,\n",
    "    430158267,\n",
    "]\n",
    "\n",
    "print(largestno(the_list))  # This should print the largest number in the list\n"
   ]
  },
  {
   "cell_type": "code",
   "execution_count": null,
   "id": "d8d2e883",
   "metadata": {},
   "outputs": [],
   "source": []
  }
 ],
 "metadata": {
  "kernelspec": {
   "display_name": "Python 3 (ipykernel)",
   "language": "python",
   "name": "python3"
  },
  "language_info": {
   "codemirror_mode": {
    "name": "ipython",
    "version": 3
   },
   "file_extension": ".py",
   "mimetype": "text/x-python",
   "name": "python",
   "nbconvert_exporter": "python",
   "pygments_lexer": "ipython3",
   "version": "3.11.3"
  }
 },
 "nbformat": 4,
 "nbformat_minor": 5
}
