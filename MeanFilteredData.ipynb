{
 "cells": [
  {
   "cell_type": "code",
   "execution_count": null,
   "id": "aa9a79d9",
   "metadata": {},
   "outputs": [],
   "source": [
    "filtered_data = inventory[(inventory['bike_sold'] == 'Y') & ((inventory['bike_price'].notnull()) | (inventory['bike_price'] != ''))]\n",
    "\n",
    "average_sale_price = filtered_data['bike_price'].astype(float).mean()\n",
    "round(average_sale_price, 2)"
   ]
  },
  {
   "cell_type": "code",
   "execution_count": null,
   "id": "2d18b677",
   "metadata": {},
   "outputs": [],
   "source": [
    "SELECT ROUND(AVG(CAST(bike_price AS DECIMAL(10, 2))), 2) AS average_sale_price\n",
    "FROM inventory\n",
    "WHERE bike_sold = 'Y' AND (bike_price IS NOT NULL OR bike_price <> '');\n"
   ]
  }
 ],
 "metadata": {
  "kernelspec": {
   "display_name": "Python 3 (ipykernel)",
   "language": "python",
   "name": "python3"
  },
  "language_info": {
   "codemirror_mode": {
    "name": "ipython",
    "version": 3
   },
   "file_extension": ".py",
   "mimetype": "text/x-python",
   "name": "python",
   "nbconvert_exporter": "python",
   "pygments_lexer": "ipython3",
   "version": "3.11.3"
  }
 },
 "nbformat": 4,
 "nbformat_minor": 5
}
