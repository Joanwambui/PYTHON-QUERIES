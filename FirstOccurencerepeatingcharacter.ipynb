{
 "cells": [
  {
   "cell_type": "code",
   "execution_count": null,
   "id": "0394d3be",
   "metadata": {},
   "outputs": [],
   "source": [
    "if __name__ == \"__main__\":\n",
    "    string = input()\n",
    "    char_prev = \"\"\n",
    "    for char in string:\n",
    "        if char == char_prev and char.isalnum():\n",
    "            print(char)\n",
    "            exit()\n",
    "        char_prev = char\n",
    "    print(-1)\n",
    "#Print the first occurrence of the repeating character. If there are no repeating characters, print -1."
   ]
  }
 ],
 "metadata": {
  "kernelspec": {
   "display_name": "Python 3 (ipykernel)",
   "language": "python",
   "name": "python3"
  },
  "language_info": {
   "codemirror_mode": {
    "name": "ipython",
    "version": 3
   },
   "file_extension": ".py",
   "mimetype": "text/x-python",
   "name": "python",
   "nbconvert_exporter": "python",
   "pygments_lexer": "ipython3",
   "version": "3.11.3"
  }
 },
 "nbformat": 4,
 "nbformat_minor": 5
}
