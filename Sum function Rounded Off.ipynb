{
 "cells": [
  {
   "cell_type": "code",
   "execution_count": null,
   "id": "19a25983",
   "metadata": {},
   "outputs": [],
   "source": [
    "round(sales['lost_revenue_millions'].sum(), 0)\n",
    "\n",
    "SELECT ROUND(CAST(SUM(lost_revenue_millions) AS DECIMAL), 0) AS Total_Loss\n",
    "FROM sales;"
   ]
  }
 ],
 "metadata": {
  "kernelspec": {
   "display_name": "Python 3 (ipykernel)",
   "language": "python",
   "name": "python3"
  },
  "language_info": {
   "codemirror_mode": {
    "name": "ipython",
    "version": 3
   },
   "file_extension": ".py",
   "mimetype": "text/x-python",
   "name": "python",
   "nbconvert_exporter": "python",
   "pygments_lexer": "ipython3",
   "version": "3.11.3"
  }
 },
 "nbformat": 4,
 "nbformat_minor": 5
}
