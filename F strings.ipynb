{
 "cells": [
  {
   "cell_type": "code",
   "execution_count": 11,
   "id": "61aae4f9",
   "metadata": {},
   "outputs": [
    {
     "name": "stdout",
     "output_type": "stream",
     "text": [
      "What is your name?\n",
      "jojo\n",
      "What is your age?\n",
      "20\n",
      "In 100 years you will be 120 old\n"
     ]
    }
   ],
   "source": [
    "#Create a program that asks the user to enter their name and their age.\n",
    "#Print out a message addressed to them that tells them the year that they will turn 100 years old\n",
    "print('What is your name?')\n",
    "name = input()\n",
    "print ('What is your age?')\n",
    "#age = input()\n",
    "age = int(input()) \n",
    "age2 = age+100\n",
    "print(f\"In 100 years you will be {age2} old\")"
   ]
  },
  {
   "cell_type": "code",
   "execution_count": null,
   "id": "a702bcee",
   "metadata": {},
   "outputs": [],
   "source": []
  }
 ],
 "metadata": {
  "kernelspec": {
   "display_name": "Python 3 (ipykernel)",
   "language": "python",
   "name": "python3"
  },
  "language_info": {
   "codemirror_mode": {
    "name": "ipython",
    "version": 3
   },
   "file_extension": ".py",
   "mimetype": "text/x-python",
   "name": "python",
   "nbconvert_exporter": "python",
   "pygments_lexer": "ipython3",
   "version": "3.11.3"
  }
 },
 "nbformat": 4,
 "nbformat_minor": 5
}
