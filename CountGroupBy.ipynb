{
 "cells": [
  {
   "cell_type": "code",
   "execution_count": null,
   "id": "f3adf78d",
   "metadata": {},
   "outputs": [],
   "source": [
    "# Import your libraries\n",
    "#import pandas as pd\n",
    "\n",
    "# Start writing code\n",
    "#playbook_events.head()\n",
    "\n",
    "# Filter for rows where the device is 'macbook pro'\n",
    "filtered_events = playbook_events[playbook_events['device'] == 'macbook pro']\n",
    "# Group by event_name and count occurrences\n",
    "result = filtered_events.groupby('event_name').size().reset_index(name='event_count')\n",
    "# Sort the result by event_count in descending order\n",
    "result_sorted = result.sort_values(by='event_count', ascending=False)"
   ]
  },
  {
   "cell_type": "code",
   "execution_count": null,
   "id": "9a8c77d2",
   "metadata": {},
   "outputs": [],
   "source": [
    "SELECT event_name, COUNT(event_name) AS event_count\n",
    "FROM playbook_events\n",
    "WHERE device = 'macbook pro'\n",
    "GROUP BY event_name\n",
    "ORDER BY COUNT(event_name) DESC"
   ]
  }
 ],
 "metadata": {
  "kernelspec": {
   "display_name": "Python 3 (ipykernel)",
   "language": "python",
   "name": "python3"
  },
  "language_info": {
   "codemirror_mode": {
    "name": "ipython",
    "version": 3
   },
   "file_extension": ".py",
   "mimetype": "text/x-python",
   "name": "python",
   "nbconvert_exporter": "python",
   "pygments_lexer": "ipython3",
   "version": "3.11.3"
  }
 },
 "nbformat": 4,
 "nbformat_minor": 5
}
