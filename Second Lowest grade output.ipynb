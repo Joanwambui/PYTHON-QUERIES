{
 "cells": [
  {
   "cell_type": "code",
   "execution_count": null,
   "id": "f081adbb",
   "metadata": {},
   "outputs": [],
   "source": [
    "students = []  # Initialize the list to store student data\n",
    "\n",
    "# Read number of students\n",
    "n = int(input(\"\"))\n",
    "\n",
    "# Read student names and grades\n",
    "for _ in range(n):\n",
    "    name = input(\"\")\n",
    "    grade = float(input(\"\"))\n",
    "    students.append([name, grade])\n",
    "\n",
    "# Extract all grades\n",
    "grades = [student[1] for student in students]\n",
    "\n",
    "# Find the second lowest grade\n",
    "unique_grades = sorted(set(grades))\n",
    "if len(unique_grades) > 1:\n",
    "    second_lowest_grade = unique_grades[1]\n",
    "\n",
    "    # Find all students with the second lowest grade\n",
    "    second_lowest_students = [student[0] for student in students if student[1] == second_lowest_grade]\n",
    "\n",
    "    # Sort the names alphabetically\n",
    "    second_lowest_students.sort()\n",
    "\n",
    "    # Print each name on a new line\n",
    "    for name in second_lowest_students:\n",
    "        print(name)\n",
    "else:\n",
    "    print(\"There are not enough distinct grades to determine a second lowest grade.\")\n"
   ]
  }
 ],
 "metadata": {
  "kernelspec": {
   "display_name": "Python 3 (ipykernel)",
   "language": "python",
   "name": "python3"
  },
  "language_info": {
   "codemirror_mode": {
    "name": "ipython",
    "version": 3
   },
   "file_extension": ".py",
   "mimetype": "text/x-python",
   "name": "python",
   "nbconvert_exporter": "python",
   "pygments_lexer": "ipython3",
   "version": "3.11.3"
  }
 },
 "nbformat": 4,
 "nbformat_minor": 5
}
