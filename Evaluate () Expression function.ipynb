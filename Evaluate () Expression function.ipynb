
{
 "cells": [
  {
   "cell_type": "code",
   "execution_count": 5,
   "id": "62c9387c",
   "metadata": {},
   "outputs": [
    {
     "name": "stdout",
     "output_type": "stream",
     "text": [
      "3 27\n",
      "x**3\n",
      "True\n"
     ]
    }
   ],
   "source": [
    "x,k=map(int,input().split())\n",
    "print(eval(input())==k)"
   ]
  },
  {
   "cell_type": "code",
   "execution_count": null,
   "id": "45eef04d",
   "metadata": {},
   "outputs": [],
   "source": []
  }
 ],
 "metadata": {
  "kernelspec": {
   "display_name": "Python 3 (ipykernel)",
   "language": "python",
   "name": "python3"
  },
  "language_info": {
   "codemirror_mode": {
    "name": "ipython",
    "version": 3
   },
   "file_extension": ".py",
   "mimetype": "text/x-python",
   "name": "python",
   "nbconvert_exporter": "python",
   "pygments_lexer": "ipython3",
   "version": "3.11.3"
  }
 },
 "nbformat": 4,
 "nbformat_minor": 5
}
