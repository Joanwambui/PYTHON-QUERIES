{
 "cells": [
  {
   "cell_type": "code",
   "execution_count": 4,
   "metadata": {},
   "outputs": [],
   "source": [
    "\n",
    "def intersection(a, b):\n",
    "  intersection_list = []\n",
    "  for value in a:\n",
    "    if value in b:\n",
    "      intersection_list.append(value)\n",
    "  return intersection_list \n",
    "\n",
    "# Example usage:\n",
    "a = [1, 2, 3, 4, 5]\n",
    "b = [0, 1, 3, 7]\n",
    "intersection_list = intersection(a, b)\n",
    "print(intersection_list)"
   ]
  },
  {
   "cell_type": "code",
   "execution_count": null,
   "metadata": {},
   "outputs": [],
   "source": []
  }
 ],
 "metadata": {
  "kernelspec": {
   "display_name": "Python 3",
   "language": "python",
   "name": "python3"
  },
  "language_info": {
   "codemirror_mode": {
    "name": "ipython",
    "version": 3
   },
   "file_extension": ".py",
   "mimetype": "text/x-python",
   "name": "python",
   "nbconvert_exporter": "python",
   "pygments_lexer": "ipython3",
   "version": "3.11.3"
  },
  "orig_nbformat": 4
 },
 "nbformat": 4,
 "nbformat_minor": 2
}
