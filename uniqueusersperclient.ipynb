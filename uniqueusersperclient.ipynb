{
 "cells": [
  {
   "cell_type": "code",
   "execution_count": null,
   "id": "30f430aa",
   "metadata": {},
   "outputs": [],
   "source": [
    "# Import your libraries\n",
    "import pandas as pd\n",
    "\n",
    "# Start writing code\n",
    "fact_events.head()\n",
    "fact_events['time_id']=pd.to_datetime(fact_events['time_id'])\n",
    "fact_events['month'] = fact_events['time_id'].dt.month\n",
    "#results = fact_events.groupby(client_id)['user_id'].distinctcount()\n",
    "#results = fact_events.groupby('client_id','time_id' as_index=False)['user_id'].nunique()\n",
    "results = fact_events.groupby(['client_id', 'month'], as_index=False)['user_id'].nunique()\n"
   ]
  }
 ],
 "metadata": {
  "kernelspec": {
   "display_name": "Python 3 (ipykernel)",
   "language": "python",
   "name": "python3"
  },
  "language_info": {
   "codemirror_mode": {
    "name": "ipython",
    "version": 3
   },
   "file_extension": ".py",
   "mimetype": "text/x-python",
   "name": "python",
   "nbconvert_exporter": "python",
   "pygments_lexer": "ipython3",
   "version": "3.11.3"
  }
 },
 "nbformat": 4,
 "nbformat_minor": 5
}
