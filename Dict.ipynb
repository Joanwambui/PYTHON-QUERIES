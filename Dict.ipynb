{
 "cells": [
  {
   "cell_type": "code",
   "execution_count": null,
   "id": "d4170716",
   "metadata": {},
   "outputs": [],
   "source": [
    "\n",
    "    \n",
    "\n",
    "def select_student(students, threshold):\n",
    "    # Separate accepted and refused students based on the threshold\n",
    "    accepted = [student for student in students if student[1] >= threshold]\n",
    "    refused = [student for student in students if student[1] < threshold]\n",
    "    \n",
    "    # Sort accepted students in descending order by grade\n",
    "    accepted.sort(key=lambda x: x[1], reverse=True)\n",
    "    \n",
    "    # Sort refused students in ascending order by grade\n",
    "    refused.sort(key=lambda x: x[1])\n",
    "    \n",
    "    # Return the result as a dictionary\n",
    "    return {\n",
    "        'Accepted': accepted,\n",
    "        'Refused': refused\n",
    "    }\n",
    "\n",
    "# Example usage\n",
    "my_class = [['Kermit Wade', 27], ['Hattie Schleusner', 67], ['Ben Ball', 5], ['William Lee', 2]]\n",
    "print(select_student(my_class, 20))\n",
    "print(select_student(my_class, 50))\n",
    "\n",
    "    \n",
    "    \n",
    "    \n"
   ]
  }
 ],
 "metadata": {
  "kernelspec": {
   "display_name": "Python 3 (ipykernel)",
   "language": "python",
   "name": "python3"
  },
  "language_info": {
   "codemirror_mode": {
    "name": "ipython",
    "version": 3
   },
   "file_extension": ".py",
   "mimetype": "text/x-python",
   "name": "python",
   "nbconvert_exporter": "python",
   "pygments_lexer": "ipython3",
   "version": "3.11.3"
  }
 },
 "nbformat": 4,
 "nbformat_minor": 5
}
