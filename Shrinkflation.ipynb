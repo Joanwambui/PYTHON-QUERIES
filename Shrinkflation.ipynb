{
 "cells": [
  {
   "cell_type": "code",
   "execution_count": null,
   "id": "7d032093",
   "metadata": {},
   "outputs": [],
   "source": [
    "import pandas as pd\n",
    "\n",
    "products['size_change_percentage'] = round(((products['new_size'] - products['original_size']) / products['original_size']) * 100, 0)\n",
    "products['price_change_percentage'] = round(((products['new_price'] - products['original_price']) / products['original_price']) * 100, 0)\n",
    "products['shrinkflation_flag'] = (products['new_size'] < products['original_size']) & (products['new_price'] >= products['original_price'])\n",
    "products['shrinkflation_flag'] = products['shrinkflation_flag'].map({True: 'True', False: 'False'})\n",
    "\n",
    "products_sorted = products.sort_values(by='product_name', ascending=True)\n",
    "\n",
    "output_df = products_sorted[['product_name', 'size_change_percentage', 'price_change_percentage', 'shrinkflation_flag']]\n",
    "\n",
    "\n",
    "\n",
    "SELECT product_name,\n",
    "       ROUND(((new_size - original_size) / CAST(original_size AS FLOAT)) * 100, 0) AS size_change_percentage,\n",
    "       ROUND(((new_price - original_price) / CAST(original_price AS FLOAT)) * 100, 0) AS price_change_percentage,\n",
    "       CASE\n",
    "         WHEN new_size < original_size AND new_price >= original_price THEN 'True'\n",
    "         ELSE 'False'\n",
    "       END AS shrinkflation_flag\n",
    "FROM products\n",
    "ORDER BY product_name ASC;\n"
   ]
  }
 ],
 "metadata": {
  "kernelspec": {
   "display_name": "Python 3 (ipykernel)",
   "language": "python",
   "name": "python3"
  },
  "language_info": {
   "codemirror_mode": {
    "name": "ipython",
    "version": 3
   },
   "file_extension": ".py",
   "mimetype": "text/x-python",
   "name": "python",
   "nbconvert_exporter": "python",
   "pygments_lexer": "ipython3",
   "version": "3.11.3"
  }
 },
 "nbformat": 4,
 "nbformat_minor": 5
}
