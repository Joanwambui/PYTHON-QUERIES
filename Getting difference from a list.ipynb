{
 "cells": [
  {
   "cell_type": "code",
   "execution_count": null,
   "id": "f12fd384",
   "metadata": {},
   "outputs": [],
   "source": [
    "def dist(points):\n",
    "    if not points:  # Check if the list is empty\n",
    "        return 0\n",
    "    return max(points) - min(points)\n",
    "\n",
    "# Example usage\n",
    "print(dist([3, 10, -2, 8, 5]))  # Output: 12\n"
   ]
  }
 ],
 "metadata": {
  "kernelspec": {
   "display_name": "Python 3 (ipykernel)",
   "language": "python",
   "name": "python3"
  },
  "language_info": {
   "codemirror_mode": {
    "name": "ipython",
    "version": 3
   },
   "file_extension": ".py",
   "mimetype": "text/x-python",
   "name": "python",
   "nbconvert_exporter": "python",
   "pygments_lexer": "ipython3",
   "version": "3.11.3"
  }
 },
 "nbformat": 4,
 "nbformat_minor": 5
}
