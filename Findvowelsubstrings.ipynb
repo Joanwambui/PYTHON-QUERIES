{
 "cells": [
  {
   "cell_type": "code",
   "execution_count": 2,
   "id": "255d06d7",
   "metadata": {},
   "outputs": [
    {
     "name": "stdout",
     "output_type": "stream",
     "text": [
      "tryyyymeeinthemorning\n",
      "eei\n"
     ]
    }
   ],
   "source": [
    "import re\n",
    "\n",
    "def find_vowel_substrings(s):\n",
    "    # Define vowel and consonant sets\n",
    "    vowels = set(\"AEIOUaeiou\")\n",
    "    consonants = set(\"BCDFGHJKLMNPQRSTVWXYZbcdfghjklmnpqrstvwxyz\")\n",
    "    \n",
    "    # Regular expression to match segments between consonants containing at least 2 vowels\n",
    "    pattern = r\"(?<=[BCDFGHJKLMNPQRSTVWXYZbcdfghjklmnpqrstvwxyz])([AEIOUaeiou]{2,})(?=[BCDFGHJKLMNPQRSTVWXYZbcdfghjklmnpqrstvwxyz])\"\n",
    "    \n",
    "    # Find all matching substrings\n",
    "    matches = re.findall(pattern, s)\n",
    "    \n",
    "    # Check if we found any matches\n",
    "    if matches:\n",
    "        for match in matches:\n",
    "            print(match)\n",
    "    else:\n",
    "        print(-1)\n",
    "\n",
    "# Example usage\n",
    "input_string = input().strip()\n",
    "find_vowel_substrings(input_string)\n"
   ]
  },
  {
   "cell_type": "code",
   "execution_count": null,
   "id": "f80977f4",
   "metadata": {},
   "outputs": [],
   "source": []
  }
 ],
 "metadata": {
  "kernelspec": {
   "display_name": "Python 3 (ipykernel)",
   "language": "python",
   "name": "python3"
  },
  "language_info": {
   "codemirror_mode": {
    "name": "ipython",
    "version": 3
   },
   "file_extension": ".py",
   "mimetype": "text/x-python",
   "name": "python",
   "nbconvert_exporter": "python",
   "pygments_lexer": "ipython3",
   "version": "3.11.3"
  }
 },
 "nbformat": 4,
 "nbformat_minor": 5
}
