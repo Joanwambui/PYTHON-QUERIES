{
 "cells": [
  {
   "cell_type": "code",
   "execution_count": null,
   "id": "e453d548",
   "metadata": {},
   "outputs": [],
   "source": [
    "import pandas as pd\n",
    "import numpy as np\n",
    "\n",
    "result = google_gmail_emails.groupby(\n",
    "    ['from_user']).size().to_frame('total_emails').reset_index()\n",
    "result['rank'] = result['total_emails'].rank(method='first', ascending=False)\n",
    "result = result.sort_values(by=['total_emails', 'from_user'], ascending=[False, True])\n"
   ]
  },
  {
   "cell_type": "code",
   "execution_count": null,
   "id": "84c34904",
   "metadata": {},
   "outputs": [],
   "source": [
    "SELECT \n",
    "    from_user, \n",
    "    COUNT(*) AS total_emails, \n",
    "    ROW_NUMBER() OVER (ORDER BY COUNT(*) DESC, from_user ASC) AS row_number\n",
    "FROM \n",
    "    google_gmail_emails\n",
    "GROUP BY \n",
    "    from_user\n",
    "ORDER BY total_emails DESC, from_user ASC"
   ]
  },
  {
   "cell_type": "code",
   "execution_count": null,
   "id": "063366f5",
   "metadata": {},
   "outputs": [],
   "source": [
    "# Assuming ecommerce_sales DataFrame has 'customer_id' and 'purchase_amount' columns\n",
    "\n",
    "# Step 1: Group by 'customer_id' and calculate the total amount spent\n",
    "data = ecommerce_sales.groupby('customer_id')['purchase_amount'].sum().reset_index(name='total_spent')\n",
    "\n",
    "# Step 2: Sort by 'total_spent' descending and 'customer_id' ascending for tie-breaking\n",
    "data = data.sort_values(by=['total_spent', 'customer_id'], ascending=[False, True]).reset_index(drop=True)\n",
    "\n",
    "# Step 3: Assign a unique spend rank\n",
    "data['spend_rank'] = data.index + 1  # Adding 1 because ranks start from 1, not 0\n",
    "\n",
    "# Display the result\n",
    "print(data)\n"
   ]
  },
  {
   "cell_type": "code",
   "execution_count": null,
   "id": "d6c833c1",
   "metadata": {},
   "outputs": [],
   "source": [
    "# Assuming employee_sales DataFrame has 'employee_id' and 'sales_amount' columns\n",
    "\n",
    "# Step 1: Group by 'employee_id' and calculate the total sales\n",
    "data = employee_sales.groupby('employee_id')['sales_amount'].sum().reset_index(name='total_sales')\n",
    "\n",
    "# Step 2: Sort by 'total_sales' (descending) and 'employee_id' (ascending for tie-breaking)\n",
    "data = data.sort_values(by=['total_sales', 'employee_id'], ascending=[False, True]).reset_index(drop=True)\n",
    "\n",
    "# Step 3: Assign a unique sales rank\n",
    "data['sales_rank'] = data.index + 1  # Adding 1 because ranks start from 1, not 0\n",
    "\n",
    "# Display the result\n",
    "print(data)\n"
   ]
  }
 ],
 "metadata": {
  "kernelspec": {
   "display_name": "Python 3 (ipykernel)",
   "language": "python",
   "name": "python3"
  },
  "language_info": {
   "codemirror_mode": {
    "name": "ipython",
    "version": 3
   },
   "file_extension": ".py",
   "mimetype": "text/x-python",
   "name": "python",
   "nbconvert_exporter": "python",
   "pygments_lexer": "ipython3",
   "version": "3.11.3"
  }
 },
 "nbformat": 4,
 "nbformat_minor": 5
}
