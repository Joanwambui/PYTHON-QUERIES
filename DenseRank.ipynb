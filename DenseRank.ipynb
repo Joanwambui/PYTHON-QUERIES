
{
 "cells": [
  {
   "cell_type": "code",
   "execution_count": null,
   "id": "e10516e7",
   "metadata": {},
   "outputs": [],
   "source": [
    "SELECT \n",
    "    DENSE_RANK() OVER (ORDER BY SUM(n_messages) DESC) AS ranking, \n",
    "    id_guest, \n",
    "    SUM(n_messages) AS sum_n_messages\n",
    "FROM \n",
    "    airbnb_contacts\n",
    "GROUP BY \n",
    "    id_guest\n",
    "ORDER BY \n",
    "    ranking;\n"
   ]
  },
  {
   "cell_type": "code",
   "execution_count": null,
   "id": "bf780933",
   "metadata": {},
   "outputs": [],
   "source": [
    "import pandas as pd\n",
    "import numpy as np\n",
    "\n",
    "df= airbnb_contacts.groupby('id_guest')['n_messages'].sum().reset_index().sort_values(['n_messages','id_guest'],ascending=[False,True])\n",
    "df['ranking'] = df.n_messages.rank(method='dense',ascending=False).astype(int)\n",
    "my_column = df.pop('ranking')\n",
    "df.insert(0, my_column.name, my_column)\n",
    "result=df\n"
   ]
  }
 ],
 "metadata": {
  "kernelspec": {
   "display_name": "Python 3 (ipykernel)",
   "language": "python",
   "name": "python3"
  },
  "language_info": {
   "codemirror_mode": {
    "name": "ipython",
    "version": 3
   },
   "file_extension": ".py",
   "mimetype": "text/x-python",
   "name": "python",
   "nbconvert_exporter": "python",
   "pygments_lexer": "ipython3",
   "version": "3.11.3"
  }
 },
 "nbformat": 4,
 "nbformat_minor": 5
}
