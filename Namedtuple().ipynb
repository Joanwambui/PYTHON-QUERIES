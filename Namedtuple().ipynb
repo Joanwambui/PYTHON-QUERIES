{
 "cells": [
  {
   "cell_type": "code",
   "execution_count": null,
   "id": "8e55989e",
   "metadata": {},
   "outputs": [],
   "source": [
    "from collections import namedtuple\n",
    "\n",
    "# Read the number of students\n",
    "students_num = int(input())\n",
    "\n",
    "# Initialize total to 0 (this variable is not actually used)\n",
    "total = 0\n",
    "\n",
    "# Create a namedtuple called 'student' with fields specified by the user\n",
    "student = namedtuple('student', \",\".join(input().split()))\n",
    "\n",
    "# Calculate the average of the MARKS field for all students\n",
    "print(sum(int(student(*[a for a in input().split()]).MARKS) for a in range(students_num)) / students_num)\n"
   ]
  }
 ],
 "metadata": {
  "kernelspec": {
   "display_name": "Python 3 (ipykernel)",
   "language": "python",
   "name": "python3"
  },
  "language_info": {
   "codemirror_mode": {
    "name": "ipython",
    "version": 3
   },
   "file_extension": ".py",
   "mimetype": "text/x-python",
   "name": "python",
   "nbconvert_exporter": "python",
   "pygments_lexer": "ipython3",
   "version": "3.11.3"
  }
 },
 "nbformat": 4,
 "nbformat_minor": 5
}
