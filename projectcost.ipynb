{
 "cells": [
  {
   "cell_type": "code",
   "execution_count": null,
   "id": "09a4edd2",
   "metadata": {},
   "outputs": [],
   "source": [
    "import pandas as pd\n",
    "import numpy as np\n",
    "from datetime import datetime\n",
    "\n",
    "df = pd.merge(linkedin_projects, linkedin_emp_projects, how = 'inner',left_on = ['id'], right_on=['project_id'])\n",
    "df1 = pd.merge(df, linkedin_employees, how = 'inner',left_on = ['emp_id'], right_on=['id'])\n",
    "df1['project_duration'] = (pd.to_datetime(df1['end_date']) - pd.to_datetime(df1['start_date'])).dt.days\n",
    "df_expense = df1.groupby('title')['salary'].sum().reset_index(name='expense')\n",
    "df_budget_expense = pd.merge(df1, df_expense, how = 'left',left_on = ['title'], right_on=['title'])\n",
    "df_budget_expense['prorated_expense'] = np.ceil(df_budget_expense['expense']*(df_budget_expense['project_duration'])/365)\n",
    "df_budget_expense['budget_diff'] = df_budget_expense['prorated_expense'] - df_budget_expense['budget']\n",
    "df_over_budget = df_budget_expense[df_budget_expense[\"budget_diff\"] > 0]\n",
    "result = df_over_budget[['title','budget','prorated_expense']]\n",
    "result = result.drop_duplicates().sort_values('title')\n",
    "\n",
    "\n"
   ]
  }
 ],
 "metadata": {
  "kernelspec": {
   "display_name": "Python 3 (ipykernel)",
   "language": "python",
   "name": "python3"
  },
  "language_info": {
   "codemirror_mode": {
    "name": "ipython",
    "version": 3
   },
   "file_extension": ".py",
   "mimetype": "text/x-python",
   "name": "python",
   "nbconvert_exporter": "python",
   "pygments_lexer": "ipython3",
   "version": "3.11.3"
  }
 },
 "nbformat": 4,
 "nbformat_minor": 5
}
