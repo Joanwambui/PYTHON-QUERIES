{
 "cells": [
  {
   "cell_type": "code",
   "execution_count": null,
   "id": "053d9f28",
   "metadata": {},
   "outputs": [],
   "source": [
    "import pandas\n",
    "\n",
    "facebook_posts['is_spam'] = facebook_posts.post_keywords.str.contains('spam')\n",
    "facebook_posts['is_spam'] = facebook_posts['is_spam'].apply(lambda x: 1 if x == True else 0)\n",
    "result = facebook_post_views.merge(facebook_posts[['post_id', 'post_date', 'is_spam']], how='left', on='post_id')\n",
    "result = result.groupby('post_date').agg({'is_spam': ['sum', 'count']}).reset_index()\n",
    "result.columns = ['post_date', 'spam_sum', 'post_count']\n",
    "result['spam_share'] = (result.spam_sum / result.post_count)*100\n",
    "result.drop(['spam_sum', 'post_count'], axis=1, inplace=True)\n",
    "result\n"
   ]
  },
  {
   "cell_type": "code",
   "execution_count": null,
   "id": "ab58814d",
   "metadata": {},
   "outputs": [],
   "source": [
    "SELECT \n",
    "    post_date,\n",
    "    SUM(CASE WHEN FP.post_keywords LIKE '%spam%' THEN 1 ELSE 0 END ) * 100 / COUNT(*)\n",
    "FROM facebook_posts FP\n",
    "INNER JOIN facebook_post_views FPV\n",
    "ON FP.post_id = FPV.post_id\n",
    "GROUP BY post_date"
   ]
  }
 ],
 "metadata": {
  "kernelspec": {
   "display_name": "Python 3 (ipykernel)",
   "language": "python",
   "name": "python3"
  },
  "language_info": {
   "codemirror_mode": {
    "name": "ipython",
    "version": 3
   },
   "file_extension": ".py",
   "mimetype": "text/x-python",
   "name": "python",
   "nbconvert_exporter": "python",
   "pygments_lexer": "ipython3",
   "version": "3.11.3"
  }
 },
 "nbformat": 4,
 "nbformat_minor": 5
}
