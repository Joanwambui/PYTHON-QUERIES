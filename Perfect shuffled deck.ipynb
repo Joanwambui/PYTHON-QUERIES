{
 "cells": [
  {
   "cell_type": "code",
   "execution_count": null,
   "id": "0057b338",
   "metadata": {},
   "outputs": [],
   "source": [
    "def perfect_shuffle(deck):\n",
    "    half = len(deck) // 2\n",
    "    shuffled_deck = []\n",
    "    for i in range(half):\n",
    "        shuffled_deck.append(deck[i])\n",
    "        shuffled_deck.append(deck[i + half])\n",
    "    return shuffled_deck\n",
    "\n",
    "def test_1024_deck():\n",
    "    deck = list(range(1, 1025))  # Creating a deck of 1024 cards\n",
    "    original_deck = deck[:]\n",
    "    \n",
    "    for _ in range(10):\n",
    "        deck = perfect_shuffle(deck)\n",
    "    \n",
    "    return deck == original_deck  # Check if the deck is back to the original order\n"
   ]
  }
 ],
 "metadata": {
  "kernelspec": {
   "display_name": "Python 3 (ipykernel)",
   "language": "python",
   "name": "python3"
  },
  "language_info": {
   "codemirror_mode": {
    "name": "ipython",
    "version": 3
   },
   "file_extension": ".py",
   "mimetype": "text/x-python",
   "name": "python",
   "nbconvert_exporter": "python",
   "pygments_lexer": "ipython3",
   "version": "3.11.3"
  }
 },
 "nbformat": 4,
 "nbformat_minor": 5
}
