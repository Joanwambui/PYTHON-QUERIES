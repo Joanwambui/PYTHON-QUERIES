
{
 "cells": [
  {
   "cell_type": "code",
   "execution_count": null,
   "id": "51cfdda6",
   "metadata": {},
   "outputs": [],
   "source": [
    "import pandas as pd\n",
    "import numpy as np\n",
    "\n",
    "result = los_angeles_restaurant_health_inspections[(los_angeles_restaurant_health_inspections['facility_name']=='STREET CHURROS') &          (los_angeles_restaurant_health_inspections['score'] < 95)][['activity_date','pe_description']]\n",
    "result['activity_date'] =  pd.to_datetime(result['activity_date'], format='%Y-%m-%d' ).dt.strftime('%Y-%m-%d')\n",
    "result"
   ]
  }
 ],
 "metadata": {
  "kernelspec": {
   "display_name": "Python 3 (ipykernel)",
   "language": "python",
   "name": "python3"
  },
  "language_info": {
   "codemirror_mode": {
    "name": "ipython",
    "version": 3
   },
   "file_extension": ".py",
   "mimetype": "text/x-python",
   "name": "python",
   "nbconvert_exporter": "python",
   "pygments_lexer": "ipython3",
   "version": "3.11.3"
  }
 },
 "nbformat": 4,
 "nbformat_minor": 5
}
