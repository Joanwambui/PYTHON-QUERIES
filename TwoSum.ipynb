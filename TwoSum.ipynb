{
 "cells": [
  {
   "cell_type": "code",
   "execution_count": 1,
   "id": "f6e5e7fc",
   "metadata": {},
   "outputs": [],
   "source": [
    "def two_sum(input: list[int], target: int) -> list[int]:\n",
    "    for i in range(len(input) - 1):\n",
    "        for j in range(i + 1, len(input)):\n",
    "            if input[i] + input[j] == target:\n",
    "                return [i, j]\n",
    "    return [-1, -1]\n",
    "\n",
    "'''\n",
    "input=\n",
    "\n",
    "[1, 4, 6, 10]\n",
    "\n",
    "target=\n",
    "\n",
    "10\n",
    "\n",
    "Expected\n",
    "\n",
    "[\n",
    "1\n",
    "2\n",
    "]\n",
    "'''"
   ]
  },
  {
   "cell_type": "code",
   "execution_count": null,
   "id": "ac0af270",
   "metadata": {},
   "outputs": [],
   "source": []
  },
  {
   "cell_type": "code",
   "execution_count": null,
   "id": "e0738558",
   "metadata": {},
   "outputs": [],
   "source": []
  }
 ],
 "metadata": {
  "kernelspec": {
   "display_name": "Python 3 (ipykernel)",
   "language": "python",
   "name": "python3"
  },
  "language_info": {
   "codemirror_mode": {
    "name": "ipython",
    "version": 3
   },
   "file_extension": ".py",
   "mimetype": "text/x-python",
   "name": "python",
   "nbconvert_exporter": "python",
   "pygments_lexer": "ipython3",
   "version": "3.11.3"
  }
 },
 "nbformat": 4,
 "nbformat_minor": 5
}
