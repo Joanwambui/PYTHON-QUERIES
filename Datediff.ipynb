

{
 "cells": [
  {
   "cell_type": "code",
   "execution_count": null,
   "id": "e95dd926",
   "metadata": {},
   "outputs": [],
   "source": [
    "import pandas as pd\n",
    "from datetime import datetime\n",
    "\n",
    "customers['birth_date'] = pd.to_datetime(customers['birth_date'], format='%m/%d/%Y')\n",
    "\n",
    "current_date = datetime.strptime('1/1/2023', '%m/%d/%Y')\n",
    "customers['age'] = (current_date - customers['birth_date']).dt.days // 365\n",
    "\n",
    "senior_customers = customers[customers['age'] >= 55]\n",
    "\n",
    "senior_ids = senior_customers['customer_id'].sort_values()\n",
    "\n",
    "senior_df = pd.DataFrame({'customer_id': senior_ids})\n",
    "\n",
    "senior_df"
   ]
  },
  {
   "cell_type": "code",
   "execution_count": null,
   "id": "4654f2aa",
   "metadata": {},
   "outputs": [],
   "source": [
    "WITH cte AS (\n",
    "    SELECT *, CAST('2023-01-01' AS DATE) AS CurrentDate\n",
    "    FROM customers\n",
    ")\n",
    "SELECT Customer_id \n",
    "FROM cte\n",
    "WHERE DATEDIFF(YEAR, birth_date, CurrentDate) -1  >= 55\n",
    "ORDER BY customer_id \n",
    "\n",
    "OR\n",
    "\n",
    "SELECT customer_id\n",
    "FROM customers\n",
    "WHERE DATEDIFF(YEAR, birth_date, '2023-01-01') - 1 >= 55\n",
    "ORDER BY customer_id;\n",
    "\n"
   ]
  }
 ],
 "metadata": {
  "kernelspec": {
   "display_name": "Python 3 (ipykernel)",
   "language": "python",
   "name": "python3"
  },
  "language_info": {
   "codemirror_mode": {
    "name": "ipython",
    "version": 3
   },
   "file_extension": ".py",
   "mimetype": "text/x-python",
   "name": "python",
   "nbconvert_exporter": "python",
   "pygments_lexer": "ipython3",
   "version": "3.11.3"
  }
 },
 "nbformat": 4,
 "nbformat_minor": 5
}
