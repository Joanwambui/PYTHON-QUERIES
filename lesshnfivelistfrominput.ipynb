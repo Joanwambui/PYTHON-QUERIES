{
 "cells": [
  {
   "cell_type": "code",
   "execution_count": 14,
   "id": "d92110f4",
   "metadata": {},
   "outputs": [
    {
     "name": "stdout",
     "output_type": "stream",
     "text": [
      "Enter a list of integers, separated by spaces: 5 6 8 3 2 0\n",
      "[5, 6, 8, 3, 2, 0]\n",
      "[3, 2, 0]\n"
     ]
    }
   ],
   "source": [
    "# Ask the user to input a list of integers\n",
    "input_string = input(\"Enter a list of integers, separated by spaces: \")\n",
    "\n",
    "# Split the input string into a list of strings\n",
    "string_list = input_string.split()\n",
    "\n",
    "# Convert each string in the list to an integer\n",
    "integer_list = [int(i) for i in string_list]\n",
    "\n",
    "# Print the resulting list to verify\n",
    "print(integer_list)\n",
    "\n",
    "def lesser_than_five(nums):\n",
    "    result = []\n",
    "    for i in nums:\n",
    "        if i < 5:\n",
    "            result.append(i)\n",
    "    return result\n",
    "\n",
    "# Call the function and print the result\n",
    "print(lesser_than_five(integer_list))\n"
   ]
  },
  {
   "cell_type": "code",
   "execution_count": null,
   "id": "215016ae",
   "metadata": {},
   "outputs": [],
   "source": []
  }
 ],
 "metadata": {
  "kernelspec": {
   "display_name": "Python 3 (ipykernel)",
   "language": "python",
   "name": "python3"
  },
  "language_info": {
   "codemirror_mode": {
    "name": "ipython",
    "version": 3
   },
   "file_extension": ".py",
   "mimetype": "text/x-python",
   "name": "python",
   "nbconvert_exporter": "python",
   "pygments_lexer": "ipython3",
   "version": "3.11.3"
  }
 },
 "nbformat": 4,
 "nbformat_minor": 5
}
