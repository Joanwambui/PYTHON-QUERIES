{
 "cells": [
  {
   "cell_type": "code",
   "execution_count": null,
   "id": "de06574b",
   "metadata": {},
   "outputs": [],
   "source": [
    "# Import your libraries\n",
    "import pandas as pd\n",
    "import numpy as np\n",
    "\n",
    "merged = pd.merge(customers, orders, left_on = 'id', right_on = 'cust_id', how = 'left')\n",
    "result = merged[['first_name','last_name','city','order_details']].sort_values(['first_name','order_details'])\n",
    "\n",
    "\n"
   ]
  },
  {
   "cell_type": "code",
   "execution_count": null,
   "id": "e7b9c42d",
   "metadata": {},
   "outputs": [],
   "source": [
    "# Import your libraries\n",
    "import pandas as pd\n",
    "\n",
    "# Assuming the worker DataFrame is defined\n",
    "# Add a 'month' column from the 'joining_date'\n",
    "worker['month'] = pd.to_datetime(worker['joining_date']).dt.month\n",
    "\n",
    "# Filter workers who joined in or after April (month >= 4)\n",
    "filtered_worker = worker[worker['month'] >= 4]\n",
    "\n",
    "# Group by department and count the number of workers\n",
    "result = filtered_worker.groupby('department')['worker_id'].count().reset_index()\n",
    "\n",
    "# Rename the count column for clarity\n",
    "result.rename(columns={'worker_id': 'worker_count'}, inplace=True)\n",
    "\n",
    "# Sort the result by worker_count in descending order\n",
    "sorted_result = result.sort_values(by='worker_count', ascending=False)\n",
    "\n"
   ]
  }
 ],
 "metadata": {
  "kernelspec": {
   "display_name": "Python 3 (ipykernel)",
   "language": "python",
   "name": "python3"
  },
  "language_info": {
   "codemirror_mode": {
    "name": "ipython",
    "version": 3
   },
   "file_extension": ".py",
   "mimetype": "text/x-python",
   "name": "python",
   "nbconvert_exporter": "python",
   "pygments_lexer": "ipython3",
   "version": "3.11.3"
  }
 },
 "nbformat": 4,
 "nbformat_minor": 5
}
