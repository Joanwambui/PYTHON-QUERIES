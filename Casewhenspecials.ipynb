
{
 "cells": [
  {
   "cell_type": "code",
   "execution_count": null,
   "id": "1ed17540",
   "metadata": {},
   "outputs": [],
   "source": [
    "desserts['amount_sold'].fillna(0, inplace=True)\n",
    "\n",
    "pivot_df = desserts.pivot(index='date_sold', columns='product', values='amount_sold')\n",
    "\n",
    "pivot_df['difference'] = abs(pivot_df['Cake'] - pivot_df['Pie'])\n",
    "pivot_df['sold_more'] = pivot_df.apply(lambda row: 'Cake' if row['Cake'] > row['Pie'] else 'Pie', axis=1)\n",
    "\n",
    "final = pivot_df.reset_index().sort_values(by='date_sold')\n",
    "\n",
    "final[['date_sold', 'difference', 'sold_more']]\n",
    "\n",
    "\n",
    "\n",
    "WITH cte_cake AS (\n",
    "    SELECT date_sold, COALESCE(amount_sold, 0) AS amount_sold\n",
    "    FROM desserts \n",
    "    WHERE product = 'Cake'\n",
    "),\n",
    "cte_pie AS (\n",
    "    SELECT date_sold, COALESCE(amount_sold, 0) AS amount_sold\n",
    "    FROM desserts \n",
    "    WHERE product = 'Pie'\n",
    ")\n",
    "\n",
    "SELECT \n",
    "    c.date_sold, \n",
    "    ABS(c.amount_sold - p.amount_sold) AS difference,\n",
    "    CASE \n",
    "        WHEN c.amount_sold > p.amount_sold THEN 'Cake'\n",
    "        WHEN p.amount_sold > c.amount_sold THEN 'Pie'\n",
    "        ELSE 'Equal' \n",
    "    END AS sold_more\n",
    "FROM cte_cake c\n",
    "INNER JOIN cte_pie p \n",
    "    ON c.date_sold = p.date_sold\n",
    "ORDER BY c.date_sold;\n",
    "\n",
    "\n",
    "SELECT\n",
    "    date_sold,\n",
    "    ABS(SUM(CASE WHEN product = 'Cake' THEN amount_sold ELSE 0 END) -\n",
    "        SUM(CASE WHEN product = 'Pie' THEN amount_sold ELSE 0 END)) AS difference,\n",
    "    CASE\n",
    "        WHEN SUM(CASE WHEN product = 'Cake' THEN amount_sold ELSE 0 END) >\n",
    "            SUM(CASE WHEN product = 'Pie' THEN amount_sold ELSE 0 END)\n",
    "        THEN 'Cake'\n",
    "        ELSE 'Pie'\n",
    "    END AS sold_more\n",
    "FROM\n",
    "    desserts\n",
    "GROUP BY\n",
    "    date_sold\n",
    "ORDER BY\n",
    "    date_sold;"
   ]
  }
 ],
 "metadata": {
  "kernelspec": {
   "display_name": "Python 3 (ipykernel)",
   "language": "python",
   "name": "python3"
  },
  "language_info": {
   "codemirror_mode": {
    "name": "ipython",
    "version": 3
   },
   "file_extension": ".py",
   "mimetype": "text/x-python",
   "name": "python",
   "nbconvert_exporter": "python",
   "pygments_lexer": "ipython3",
   "version": "3.11.3"
  }
 },
 "nbformat": 4,
 "nbformat_minor": 5
}
