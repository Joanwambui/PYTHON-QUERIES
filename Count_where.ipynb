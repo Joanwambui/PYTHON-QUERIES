{
 "cells": [
  {
   "cell_type": "code",
   "execution_count": null,
   "id": "139d2bfd",
   "metadata": {},
   "outputs": [],
   "source": [
    "bikes[bikes['miles'] > 10000]['bike_id'].count()\n",
    "\n",
    "SELECT COUNT(*) AS Number_of_Bikes_Needing_Battery_Replacement\n",
    "FROM bikes\n",
    "WHERE miles > 10000;"
   ]
  }
 ],
 "metadata": {
  "kernelspec": {
   "display_name": "Python 3 (ipykernel)",
   "language": "python",
   "name": "python3"
  },
  "language_info": {
   "codemirror_mode": {
    "name": "ipython",
    "version": 3
   },
   "file_extension": ".py",
   "mimetype": "text/x-python",
   "name": "python",
   "nbconvert_exporter": "python",
   "pygments_lexer": "ipython3",
   "version": "3.11.3"
  }
 },
 "nbformat": 4,
 "nbformat_minor": 5
}
