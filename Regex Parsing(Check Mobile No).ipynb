{
 "cells": [
  {
   "cell_type": "code",
   "execution_count": null,
   "id": "f23c7d3c",
   "metadata": {},
   "outputs": [],
   "source": [
    "def checkMobileNo(mobileNo):\n",
    "    try:\n",
    "        if len(mobileNo)==10 and mobileNo.startswith(('7', '8', '9')):\n",
    "            if int(mobileNo):\n",
    "                return 'YES'\n",
    "    except Exception:\n",
    "        return 'NO'\n",
    "    return 'NO'\n",
    "    \n",
    "for i in range(int(input())):\n",
    "    mobileNo = input()\n",
    "    print(checkMobileNo(mobileNo))"
   ]
  },
  {
   "cell_type": "code",
   "execution_count": null,
   "id": "7c29b4ad",
   "metadata": {},
   "outputs": [],
   "source": [
    "import re\n",
    "pattern = r\"^[789][0-9]{9}$\"\n",
    "N = int(input())\n",
    "for _ in range(N):\n",
    "    if re.match(pattern, input()):\n",
    "        print(\"YES\")\n",
    "    else:\n",
    "        print(\"NO\")"
   ]
  }
 ],
 "metadata": {
  "kernelspec": {
   "display_name": "Python 3 (ipykernel)",
   "language": "python",
   "name": "python3"
  },
  "language_info": {
   "codemirror_mode": {
    "name": "ipython",
    "version": 3
   },
   "file_extension": ".py",
   "mimetype": "text/x-python",
   "name": "python",
   "nbconvert_exporter": "python",
   "pygments_lexer": "ipython3",
   "version": "3.11.3"
  }
 },
 "nbformat": 4,
 "nbformat_minor": 5
}
