{
 "cells": [
  {
   "cell_type": "code",
   "execution_count": null,
   "id": "41ab744f",
   "metadata": {},
   "outputs": [],
   "source": [
    "import math\n",
    "\n",
    "def mean(x):\n",
    "\treturn sum(x)/len(x)\n",
    "\t\n",
    "def sd(x):\n",
    "  m = mean(x)\n",
    "  ss = sum((i-m) ** 2 for i in x)\n",
    "  return math.sqrt(ss / len(x))\n",
    "\n",
    "def corr(x, y):\n",
    "  x_m = mean(x)\n",
    "  y_m = mean(y)\n",
    "  xy_d = [] # product of de-meaned X and Y, for covariance calc\n",
    "  for i in range(len(x)):\n",
    "    x_d = x[i] - x_m\n",
    "    y_d = y[i] - y_m\n",
    "    xy_d.append(x_d * y_d) # add product of X_i and Y_i \n",
    "  return mean(xy_d) / (sd(x) * sd(y)) # from formula above"
   ]
  }
 ],
 "metadata": {
  "kernelspec": {
   "display_name": "Python 3 (ipykernel)",
   "language": "python",
   "name": "python3"
  },
  "language_info": {
   "codemirror_mode": {
    "name": "ipython",
    "version": 3
   },
   "file_extension": ".py",
   "mimetype": "text/x-python",
   "name": "python",
   "nbconvert_exporter": "python",
   "pygments_lexer": "ipython3",
   "version": "3.11.3"
  }
 },
 "nbformat": 4,
 "nbformat_minor": 5
}
