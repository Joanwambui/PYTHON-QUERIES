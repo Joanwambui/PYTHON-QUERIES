
{
 "cells": [
  {
   "cell_type": "code",
   "execution_count": null,
   "id": "e064a10d",
   "metadata": {},
   "outputs": [],
   "source": [
    "stores_grouped = stores.groupby('store_id')['revenue'].mean().reset_index().rename(columns={'revenue': 'avg_yearly_revenue'})\n",
    "\n",
    "stores_grouped['avg_yearly_revenue'] = stores_grouped['avg_yearly_revenue'].round(2)\n",
    "\n",
    "high_revenue_stores = stores_grouped[stores_grouped['avg_yearly_revenue'] > 1000000]\n",
    "\n",
    "high_revenue_stores\n",
    "\n",
    "\n",
    "SELECT store_id, ROUND(AVG(CAST(revenue AS DECIMAL(10, 2))), 2) AS avg_yearly_revenue\n",
    "FROM stores\n",
    "GROUP BY store_id\n",
    "HAVING AVG(revenue) > 1000000\n",
    "ORDER BY store_id;"
   ]
  }
 ],
 "metadata": {
  "kernelspec": {
   "display_name": "Python 3 (ipykernel)",
   "language": "python",
   "name": "python3"
  },
  "language_info": {
   "codemirror_mode": {
    "name": "ipython",
    "version": 3
   },
   "file_extension": ".py",
   "mimetype": "text/x-python",
   "name": "python",
   "nbconvert_exporter": "python",
   "pygments_lexer": "ipython3",
   "version": "3.11.3"
  }
 },
 "nbformat": 4,
 "nbformat_minor": 5
}
