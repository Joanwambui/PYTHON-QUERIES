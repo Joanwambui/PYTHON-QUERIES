{
 "cells": [
  {
   "cell_type": "code",
   "execution_count": null,
   "id": "cd537eef",
   "metadata": {},
   "outputs": [],
   "source": [
    "avg_media_time = user_time['media_time_minutes'].mean()\n",
    "\n",
    "filtered_users = users[users['user_id'].isin(\n",
    "    user_time[user_time['media_time_minutes'] > avg_media_time]['user_id']\n",
    ")]\n",
    "\n",
    "result = filtered_users.sort_values(by='first_name')\n",
    "\n",
    "result[['first_name']]\n",
    "\n",
    "\n",
    "\n",
    "\n",
    "SELECT first_name\n",
    "FROM users\n",
    "WHERE user_id IN (\n",
    "    SELECT user_id\n",
    "    FROM user_time\n",
    "    WHERE media_time_minutes > (\n",
    "        SELECT AVG(media_time_minutes)\n",
    "        FROM user_time\n",
    "    )\n",
    ")\n",
    "ORDER BY first_name;"
   ]
  }
 ],
 "metadata": {
  "kernelspec": {
   "display_name": "Python 3 (ipykernel)",
   "language": "python",
   "name": "python3"
  },
  "language_info": {
   "codemirror_mode": {
    "name": "ipython",
    "version": 3
   },
   "file_extension": ".py",
   "mimetype": "text/x-python",
   "name": "python",
   "nbconvert_exporter": "python",
   "pygments_lexer": "ipython3",
   "version": "3.11.3"
  }
 },
 "nbformat": 4,
 "nbformat_minor": 5
}
