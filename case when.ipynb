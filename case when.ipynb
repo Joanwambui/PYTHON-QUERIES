{
 "cells": [
  {
   "cell_type": "code",
   "execution_count": null,
   "id": "b5a2a93d",
   "metadata": {},
   "outputs": [],
   "source": [
    "employees['new_salary'] = employees.apply(lambda row: round(row['salary'] * 1.1) \n",
    "                                          if row['pay_level'] == 1 \n",
    "                                            else (round(row['salary'] * 1.15) \n",
    "                                                if row['pay_level'] == 2 \n",
    "                                                  else (round(row['salary'] * 3) \n",
    "                                                      if row['pay_level'] == 3 \n",
    "                                                        else row['salary'])), axis=1)\n",
    "\n",
    "employees\n",
    "\n",
    "\n",
    "\n",
    "SELECT *, CASE\n",
    "    WHEN Pay_Level = 1 THEN Salary * 1.1\n",
    "    WHEN Pay_Level = 2 THEN Salary * 1.15\n",
    "    WHEN Pay_Level = 3 THEN Salary * 3\n",
    "    ELSE Salary\n",
    "END as new_salary\n",
    "FROM employees;\n",
    "\n"
   ]
  }
 ],
 "metadata": {
  "kernelspec": {
   "display_name": "Python 3 (ipykernel)",
   "language": "python",
   "name": "python3"
  },
  "language_info": {
   "codemirror_mode": {
    "name": "ipython",
    "version": 3
   },
   "file_extension": ".py",
   "mimetype": "text/x-python",
   "name": "python",
   "nbconvert_exporter": "python",
   "pygments_lexer": "ipython3",
   "version": "3.11.3"
  }
 },
 "nbformat": 4,
 "nbformat_minor": 5
}
