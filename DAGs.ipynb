{
 "cells": [
  {
   "cell_type": "code",
   "execution_count": null,
   "id": "4bbeafe0",
   "metadata": {},
   "outputs": [],
   "source": [
    "\n",
    "dag = DAG('my_dag', start_date=datetime(2020, 12, 1))\n",
    "\n",
    "##define tasks of the DAG\n",
    "\n",
    "start_cluster = StartClusterOperator(task_id=\"start_cluster\", dag=dag)\n",
    "\n",
    "input_athlete_data = SparkJob0perator(task_id=\"input_athlete_data\", dag=dag) \n",
    "input_venue_data = SparkJob0perator(task_id=\"input_venue_data\", dag=dag)\n",
    "\n",
    "##set up dependency flow\n",
    "\n",
    "start_cluster.set_downstream(input_athlete_data)\n",
    "input_athlete_data.set_downstream (enrich_athlete_data) \n",
    "input_venue_data.set_downstream (enrich_athlete_data)"
   ]
  }
 ],
 "metadata": {
  "kernelspec": {
   "display_name": "Python 3 (ipykernel)",
   "language": "python",
   "name": "python3"
  },
  "language_info": {
   "codemirror_mode": {
    "name": "ipython",
    "version": 3
   },
   "file_extension": ".py",
   "mimetype": "text/x-python",
   "name": "python",
   "nbconvert_exporter": "python",
   "pygments_lexer": "ipython3",
   "version": "3.11.3"
  }
 },
 "nbformat": 4,
 "nbformat_minor": 5
}
