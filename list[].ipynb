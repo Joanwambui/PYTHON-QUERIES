{
 "cells": [
  {
   "cell_type": "code",
   "execution_count": null,
   "id": "382233fb",
   "metadata": {},
   "outputs": [],
   "source": [
    "if __name__ == '__main__':\n",
    "    N = int(input())\n",
    "    arr = []\n",
    "    for _ in range(N):\n",
    "        command,*line = input().split()\n",
    "        num = list(map(int,line))\n",
    "        if command == 'insert':\n",
    "            arr.insert(num[0],num[1])\n",
    "        elif command == 'print':\n",
    "            print(arr)\n",
    "        elif command == 'remove':\n",
    "            arr.remove(num[0])\n",
    "        elif command == 'append':\n",
    "            arr.append(num[0])\n",
    "        elif command == 'sort':\n",
    "            arr.sort()\n",
    "        elif command == 'pop':\n",
    "            arr.pop()\n",
    "        elif command == 'reverse':\n",
    "            arr.reverse()"
   ]
  }
 ],
 "metadata": {
  "kernelspec": {
   "display_name": "Python 3 (ipykernel)",
   "language": "python",
   "name": "python3"
  },
  "language_info": {
   "codemirror_mode": {
    "name": "ipython",
    "version": 3
   },
   "file_extension": ".py",
   "mimetype": "text/x-python",
   "name": "python",
   "nbconvert_exporter": "python",
   "pygments_lexer": "ipython3",
   "version": "3.11.3"
  }
 },
 "nbformat": 4,
 "nbformat_minor": 5
}
