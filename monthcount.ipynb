{
 "cells": [
  {
   "cell_type": "code",
   "execution_count": null,
   "id": "9b9a8812",
   "metadata": {},
   "outputs": [],
   "source": [
    "import pandas as pd\n",
    "amazon_shipment['year_month'] = pd.to_datetime(amazon_shipment.shipment_date).dt.to_period('M')\n",
    "amazon_shipment['unique_key'] = amazon_shipment['shipment_id'].astype(str) + '_' + amazon_shipment['sub_id'].astype(str)\n",
    "result = amazon_shipment.groupby('year_month')['unique_key'].nunique().to_frame('count').reset_index()\n"
   ]
  }
 ],
 "metadata": {
  "kernelspec": {
   "display_name": "Python 3 (ipykernel)",
   "language": "python",
   "name": "python3"
  },
  "language_info": {
   "codemirror_mode": {
    "name": "ipython",
    "version": 3
   },
   "file_extension": ".py",
   "mimetype": "text/x-python",
   "name": "python",
   "nbconvert_exporter": "python",
   "pygments_lexer": "ipython3",
   "version": "3.11.3"
  }
 },
 "nbformat": 4,
 "nbformat_minor": 5
}
