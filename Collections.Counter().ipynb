
{
 "cells": [
  {
   "cell_type": "code",
   "execution_count": 18,
   "id": "d4e7f7c4",
   "metadata": {},
   "outputs": [
    {
     "name": "stdout",
     "output_type": "stream",
     "text": [
      "10\n",
      "2 3 4 5 6 8 7 6 5 18\n",
      "4\n",
      "2 30\n",
      "4 70\n",
      "10 99\n",
      "5 67\n",
      "167\n"
     ]
    },
    {
     "data": {
      "text/plain": [
       "'\\nRaghu is a shoe shop owner. His shop has  number of shoes.\\nHe has a list containing the size of each shoe he has in his shop.\\nThere are  number of customers who are willing to pay X amount of money only if they get the shoe of their desired size.\\n\\nYour task is to compute how much money  earned.\\n'"
      ]
     },
     "execution_count": 18,
     "metadata": {},
     "output_type": "execute_result"
    }
   ],
   "source": [
    "from collections import Counter\n",
    "\n",
    "# Read the number of shoes\n",
    "no_of_shoes = int(input())\n",
    "\n",
    "# Read the list of shoe sizes\n",
    "shoe_size_list = Counter(map(int, input().split()))\n",
    "\n",
    "# Read the number of customers\n",
    "no_of_cust = int(input())\n",
    "\n",
    "m_r = 0\n",
    "for _ in range(no_of_cust):\n",
    "    size_req, money = map(int, input().split())\n",
    "    if shoe_size_list[size_req] > 0:\n",
    "        m_r += money\n",
    "        shoe_size_list[size_req] -= 1\n",
    "        if shoe_size_list[size_req] == 0:\n",
    "            del shoe_size_list[size_req]\n",
    "\n",
    "print(m_r)\n",
    "'''\n",
    "Raghu is a shoe shop owner. His shop has  number of shoes.\n",
    "He has a list containing the size of each shoe he has in his shop.\n",
    "There are  number of customers who are willing to pay X amount of money only if they get the shoe of their desired size.\n",
    "\n",
    "Your task is to compute how much money  earned.\n",
    "'''"
   ]
  },
  {
   "cell_type": "code",
   "execution_count": null,
   "id": "0394a66b",
   "metadata": {},
   "outputs": [],
   "source": []
  }
 ],
 "metadata": {
  "kernelspec": {
   "display_name": "Python 3 (ipykernel)",
   "language": "python",
   "name": "python3"
  },
  "language_info": {
   "codemirror_mode": {
    "name": "ipython",
    "version": 3
   },
   "file_extension": ".py",
   "mimetype": "text/x-python",
   "name": "python",
   "nbconvert_exporter": "python",
   "pygments_lexer": "ipython3",
   "version": "3.11.3"
  }
 },
 "nbformat": 4,
 "nbformat_minor": 5
}
