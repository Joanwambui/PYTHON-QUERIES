{
 "cells": [
  {
   "cell_type": "code",
   "execution_count": null,
   "id": "747c4679",
   "metadata": {},
   "outputs": [],
   "source": [
    "result = winemag_p1[winemag_p1['description'].str.lower().str.contains\n",
    "                    ('\\\\bplum\\\\b|\\\\bcherry\\\\b|\\\\brose\\\\b|\\\\bhazelnut\\\\b')][['winery']].drop_duplicates()\n"
   ]
  },
  {
   "cell_type": "code",
   "execution_count": null,
   "id": "8e896735",
   "metadata": {},
   "outputs": [],
   "source": [
    "SELECT DISTINCT winery\n",
    "FROM winemag_p1\n",
    "WHERE description LIKE '%plum[,. /-]%'\n",
    "OR description LIKE '%cherry[,. /-]%' \n",
    "OR description LIKE '%rose[,. /-]%' \n",
    "OR description LIKE '%hazelnut[,. /-]%' "
   ]
  }
 ],
 "metadata": {
  "kernelspec": {
   "display_name": "Python 3 (ipykernel)",
   "language": "python",
   "name": "python3"
  },
  "language_info": {
   "codemirror_mode": {
    "name": "ipython",
    "version": 3
   },
   "file_extension": ".py",
   "mimetype": "text/x-python",
   "name": "python",
   "nbconvert_exporter": "python",
   "pygments_lexer": "ipython3",
   "version": "3.11.3"
  }
 },
 "nbformat": 4,
 "nbformat_minor": 5
}
