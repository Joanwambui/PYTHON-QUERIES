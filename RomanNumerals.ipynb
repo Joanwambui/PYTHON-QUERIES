{
 "cells": [
  {
   "cell_type": "code",
   "execution_count": 1,
   "id": "fa077090",
   "metadata": {},
   "outputs": [],
   "source": [
    "\n",
    "    \n",
    "def from_roman_numeral(roman_numeral):\n",
    "    roman_values = {\n",
    "        'I': 1, 'V': 5, 'X': 10, 'L': 50,\n",
    "        'C': 100, 'D': 500, 'M': 1000\n",
    "    }\n",
    "    \n",
    "    total = 0\n",
    "    prev_value = 0\n",
    "    \n",
    "    for char in roman_numeral:\n",
    "        current_value = roman_values[char]\n",
    "        if current_value > prev_value:\n",
    "            total += current_value - 2 * prev_value\n",
    "        else:\n",
    "            total += current_value\n",
    "        prev_value = current_value\n",
    "    \n",
    "    return total"
   ]
  },
  {
   "cell_type": "code",
   "execution_count": null,
   "id": "54fe71d7",
   "metadata": {},
   "outputs": [],
   "source": []
  }
 ],
 "metadata": {
  "kernelspec": {
   "display_name": "Python 3 (ipykernel)",
   "language": "python",
   "name": "python3"
  },
  "language_info": {
   "codemirror_mode": {
    "name": "ipython",
    "version": 3
   },
   "file_extension": ".py",
   "mimetype": "text/x-python",
   "name": "python",
   "nbconvert_exporter": "python",
   "pygments_lexer": "ipython3",
   "version": "3.11.3"
  }
 },
 "nbformat": 4,
 "nbformat_minor": 5
}
