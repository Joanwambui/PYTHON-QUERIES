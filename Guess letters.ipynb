{
 "cells": [
  {
   "cell_type": "code",
   "execution_count": 1,
   "id": "93c9951b",
   "metadata": {},
   "outputs": [
    {
     "name": "stderr",
     "output_type": "stream",
     "text": [
      "<>:19: SyntaxWarning: \"is not\" with a literal. Did you mean \"!=\"?\n",
      "<>:19: SyntaxWarning: \"is not\" with a literal. Did you mean \"!=\"?\n",
      "C:\\Users\\digit\\AppData\\Local\\Temp\\ipykernel_25084\\3094218525.py:19: SyntaxWarning: \"is not\" with a literal. Did you mean \"!=\"?\n",
      "  if letter is not '':\n"
     ]
    },
    {
     "name": "stdout",
     "output_type": "stream",
     "text": [
      "Welcome to hangman!!\n",
      "guess letter: i\n",
      "_________\n",
      "guess letter: a\n",
      "__A___A__\n",
      "guess letter: e\n",
      "E_A___A_E\n",
      "guess letter: p\n",
      "E_AP__A_E\n",
      "guess letter: r\n",
      "E_AP_RA_E\n",
      "guess letter: o\n",
      "E_APORA_E\n",
      "guess letter: t\n",
      "E_APORATE\n",
      "guess letter: v\n",
      "You won!!\n"
     ]
    }
   ],
   "source": [
    "if __name__ == '__main__':\n",
    "\tprint(\"Welcome to hangman!!\")\n",
    "\tword = \"EVAPORATE\"\n",
    "\tguessed = \"_\" * len(word)\n",
    "\tword = list(word)\n",
    "\tguessed = list(guessed)\n",
    "\tlstGuessed = []\n",
    "\tletter = input(\"guess letter: \")\n",
    "\twhile True:\n",
    "\t\tif letter.upper() in lstGuessed:\n",
    "\t\t\tletter = ''\n",
    "\t\t\tprint(\"Already guessed!!\")\n",
    "\t\telif letter.upper() in word:\n",
    "\t\t\tindex = word.index(letter.upper())\n",
    "\t\t\tguessed[index] = letter.upper()\n",
    "\t\t\tword[index] = '_'\n",
    "\t\telse:\n",
    "\t\t\tprint(''.join(guessed))\n",
    "\t\t\tif letter is not '':\n",
    "\t\t\t\tlstGuessed.append(letter.upper())\n",
    "\t\t\tletter = input(\"guess letter: \")\n",
    "\n",
    "\t\tif '_' not in guessed:\n",
    "\t\t\tprint(\"You won!!\")\n",
    "\t\t\tbreak"
   ]
  },
  {
   "cell_type": "code",
   "execution_count": null,
   "id": "87301597",
   "metadata": {},
   "outputs": [],
   "source": []
  }
 ],
 "metadata": {
  "kernelspec": {
   "display_name": "Python 3 (ipykernel)",
   "language": "python",
   "name": "python3"
  },
  "language_info": {
   "codemirror_mode": {
    "name": "ipython",
    "version": 3
   },
   "file_extension": ".py",
   "mimetype": "text/x-python",
   "name": "python",
   "nbconvert_exporter": "python",
   "pygments_lexer": "ipython3",
   "version": "3.11.3"
  }
 },
 "nbformat": 4,
 "nbformat_minor": 5
}
