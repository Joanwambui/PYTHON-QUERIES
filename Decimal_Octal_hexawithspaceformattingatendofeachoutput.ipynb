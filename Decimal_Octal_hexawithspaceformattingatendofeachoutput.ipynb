
{
 "cells": [
  {
   "cell_type": "code",
   "execution_count": null,
   "id": "ffb2116b",
   "metadata": {},
   "outputs": [],
   "source": [
    "def print_formatted(number):\n",
    "    w = len(format(number, 'b'))\n",
    "    for i in range(1, number+1):\n",
    "        d=format(i,'d').rjust(w,' ')\n",
    "        o=format(i,'o').rjust(w,' ')\n",
    "        x=format(i,'x').rjust(w,' ').upper()\n",
    "        b=format(i,'b').rjust(w,' ')\n",
    "        print(f\"{d} {o} {x} {b}\")\n",
    "\n",
    "if __name__ == '__main__':\n",
    "    n = int(input())\n",
    "    print_formatted(n)def print_formatted(number):\n",
    "    w = len(format(number, 'b'))\n",
    "    for i in range(1, number+1):\n",
    "        d=format(i,'d').rjust(w,' ')\n",
    "        o=format(i,'o').rjust(w,' ')\n",
    "        x=format(i,'x').rjust(w,' ').upper()\n",
    "        b=format(i,'b').rjust(w,' ')\n",
    "        print(f\"{d} {o} {x} {b}\")\n",
    "\n",
    "if __name__ == '__main__':\n",
    "    n = int(input())\n",
    "    print_formatted(n)"
   ]
  },
  {
   "cell_type": "code",
   "execution_count": null,
   "id": "1844598c",
   "metadata": {},
   "outputs": [],
   "source": [
    "This code defines a function print_formatted that takes an integer number as an argument and \n",
    "prints the numbers from 1 to number in decimal, octal, hexadecimal (uppercase), and binary formats. "
   ]
  }
 ],
 "metadata": {
  "kernelspec": {
   "display_name": "Python 3 (ipykernel)",
   "language": "python",
   "name": "python3"
  },
  "language_info": {
   "codemirror_mode": {
    "name": "ipython",
    "version": 3
   },
   "file_extension": ".py",
   "mimetype": "text/x-python",
   "name": "python",
   "nbconvert_exporter": "python",
   "pygments_lexer": "ipython3",
   "version": "3.11.3"
  }
 },
 "nbformat": 4,
 "nbformat_minor": 5
}
