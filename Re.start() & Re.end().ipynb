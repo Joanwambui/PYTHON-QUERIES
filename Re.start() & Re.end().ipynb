{
 "cells": [
  {
   "cell_type": "code",
   "execution_count": 4,
   "id": "8c6fe429",
   "metadata": {},
   "outputs": [
    {
     "name": "stdout",
     "output_type": "stream",
     "text": [
      "joanwambi\n",
      "jo\n",
      "(0, 1)\n"
     ]
    }
   ],
   "source": [
    "import re\n",
    "\n",
    "s = input()\n",
    "k = input()\n",
    "\n",
    "pattern = re.compile(f'(?=({k}))')\n",
    "result = list(pattern.finditer(s))\n",
    "\n",
    "if result:\n",
    "    for match in result:\n",
    "        print((match.start(1), match.end(1)-1))\n",
    "else:\n",
    "    print((-1, -1))\n",
    "\n",
    "'''\n",
    "Task\n",
    "You are given a string .\n",
    "Your task is to find the indices of the start and end of string  in .\n",
    "\n",
    "Input Format\n",
    "\n",
    "The first line contains the string .\n",
    "The second line contains the string .\n",
    "\n",
    "Constraints\n",
    "\n",
    "\n",
    "\n",
    "Output Format\n",
    "\n",
    "Print the tuple in this format: (start _index, end _index).\n",
    "If no match is found, print (-1, -1).\n",
    "\n",
    "Sample Input\n",
    "\n",
    "aaadaa\n",
    "aa\n",
    "Sample Output\n",
    "\n",
    "(0, 1)  \n",
    "(1, 2)\n",
    "(4, 5)\n",
    "'''"
   ]
  },
  {
   "cell_type": "code",
   "execution_count": null,
   "id": "83d12919",
   "metadata": {},
   "outputs": [],
   "source": []
  }
 ],
 "metadata": {
  "kernelspec": {
   "display_name": "Python 3 (ipykernel)",
   "language": "python",
   "name": "python3"
  },
  "language_info": {
   "codemirror_mode": {
    "name": "ipython",
    "version": 3
   },
   "file_extension": ".py",
   "mimetype": "text/x-python",
   "name": "python",
   "nbconvert_exporter": "python",
   "pygments_lexer": "ipython3",
   "version": "3.11.3"
  }
 },
 "nbformat": 4,
 "nbformat_minor": 5
}
