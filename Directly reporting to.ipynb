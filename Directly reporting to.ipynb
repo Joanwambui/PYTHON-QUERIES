{
 "cells": [
  {
   "cell_type": "code",
   "execution_count": null,
   "id": "2d7e00b2",
   "metadata": {},
   "outputs": [],
   "source": [
    "managers = direct_reports[direct_reports['position'].str.contains('Manager')]\n",
    "\n",
    "direct_reports = direct_reports.groupby('managers_id').size().reset_index(name='direct_reports')\n",
    "\n",
    "manager_reports = managers.merge(direct_reports, left_on='employee_id', right_on='managers_id', how='left')\n",
    "\n",
    "manager_reports[['employee_id', 'position', 'direct_reports']].rename(columns={'employee_id': 'manager_id', 'position': 'manager_position'})\n",
    "\n",
    "\n",
    "\n",
    "\n",
    "SELECT m.employee_id AS manager_id, m.position AS manager_position, COUNT(*) AS direct_reports\n",
    "FROM direct_reports e\n",
    "INNER JOIN direct_reports m ON e.managers_id = m.employee_id\n",
    "WHERE m.position LIKE '%Manager%'\n",
    "GROUP BY m.employee_id, m.position;"
   ]
  }
 ],
 "metadata": {
  "kernelspec": {
   "display_name": "Python 3 (ipykernel)",
   "language": "python",
   "name": "python3"
  },
  "language_info": {
   "codemirror_mode": {
    "name": "ipython",
    "version": 3
   },
   "file_extension": ".py",
   "mimetype": "text/x-python",
   "name": "python",
   "nbconvert_exporter": "python",
   "pygments_lexer": "ipython3",
   "version": "3.11.3"
  }
 },
 "nbformat": 4,
 "nbformat_minor": 5
}
