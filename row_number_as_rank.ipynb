{
 "cells": [
  {
   "cell_type": "code",
   "execution_count": null,
   "id": "eabc7a52",
   "metadata": {},
   "outputs": [],
   "source": [
    "import pandas as pd\n",
    "import numpy as np\n",
    "\n",
    "result = google_gmail_emails.groupby(\n",
    "    ['from_user']).size().to_frame('total_emails').reset_index()\n",
    "result['rank'] = result['total_emails'].rank(method='first', ascending=False)\n",
    "result = result.sort_values(by=['total_emails', 'from_user'], ascending=[False, True])\n"
   ]
  },
  {
   "cell_type": "code",
   "execution_count": null,
   "id": "6be89a01",
   "metadata": {},
   "outputs": [],
   "source": [
    "SELECT \n",
    "    from_user, \n",
    "    COUNT(*) AS total_emails, \n",
    "    ROW_NUMBER() OVER (ORDER BY COUNT(*) DESC, from_user ASC) AS row_number\n",
    "FROM \n",
    "    google_gmail_emails\n",
    "GROUP BY \n",
    "    from_user\n",
    "ORDER BY total_emails DESC, from_user ASC"
   ]
  }
 ],
 "metadata": {
  "kernelspec": {
   "display_name": "Python 3 (ipykernel)",
   "language": "python",
   "name": "python3"
  },
  "language_info": {
   "codemirror_mode": {
    "name": "ipython",
    "version": 3
   },
   "file_extension": ".py",
   "mimetype": "text/x-python",
   "name": "python",
   "nbconvert_exporter": "python",
   "pygments_lexer": "ipython3",
   "version": "3.11.3"
  }
 },
 "nbformat": 4,
 "nbformat_minor": 5
}
