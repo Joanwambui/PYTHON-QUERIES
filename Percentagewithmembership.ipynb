{
 "cells": [
  {
   "cell_type": "code",
   "execution_count": null,
   "id": "5d5f6d26",
   "metadata": {},
   "outputs": [],
   "source": [
    "percentage_with_membership = (customers[customers['has_member_card'] == 'Y'].shape[0] / customers[customers['kroger_id'].notnull()].shape[0]) * 100\n",
    "\n",
    "round(percentage_with_membership, 2)\n",
    "\n",
    "\n",
    "SELECT \n",
    "    ROUND(CAST(COUNT(CASE WHEN has_member_card = 'Y' THEN 1 END) AS DECIMAL) / COUNT(*) * 100, 2) AS Percentage_with_Membership\n",
    "FROM customers\n",
    "WHERE kroger_id IS NOT NULL;"
   ]
  }
 ],
 "metadata": {
  "kernelspec": {
   "display_name": "Python 3 (ipykernel)",
   "language": "python",
   "name": "python3"
  },
  "language_info": {
   "codemirror_mode": {
    "name": "ipython",
    "version": 3
   },
   "file_extension": ".py",
   "mimetype": "text/x-python",
   "name": "python",
   "nbconvert_exporter": "python",
   "pygments_lexer": "ipython3",
   "version": "3.11.3"
  }
 },
 "nbformat": 4,
 "nbformat_minor": 5
}
