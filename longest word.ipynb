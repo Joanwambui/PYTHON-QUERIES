{
 "cells": [
  {
   "cell_type": "code",
   "execution_count": null,
   "id": "b7a87991",
   "metadata": {},
   "outputs": [],
   "source": [
    "def longest_word(text):\n",
    "    # Split the text into words, considering all whitespace as separators\n",
    "    words = text.split()\n",
    "    \n",
    "    # Find the longest word using the max function with key=len\n",
    "    longest = max(words, key=len)\n",
    "    \n",
    "    return longest"
   ]
  }
 ],
 "metadata": {
  "kernelspec": {
   "display_name": "Python 3 (ipykernel)",
   "language": "python",
   "name": "python3"
  },
  "language_info": {
   "codemirror_mode": {
    "name": "ipython",
    "version": 3
   },
   "file_extension": ".py",
   "mimetype": "text/x-python",
   "name": "python",
   "nbconvert_exporter": "python",
   "pygments_lexer": "ipython3",
   "version": "3.11.3"
  }
 },
 "nbformat": 4,
 "nbformat_minor": 5
}
