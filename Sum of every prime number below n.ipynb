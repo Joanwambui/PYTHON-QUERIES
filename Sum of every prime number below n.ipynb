{
 "cells": [
  {
   "cell_type": "code",
   "execution_count": null,
   "id": "c5bcc4ae",
   "metadata": {},
   "outputs": [],
   "source": [
    "def sum_primes(n):\n",
    "    def is_prime(x):\n",
    "        if x <= 1:\n",
    "            return False\n",
    "        if x == 2:\n",
    "            return True\n",
    "        if x % 2 == 0:\n",
    "            return False\n",
    "        for i in range(3, int(x**0.5) + 1, 2):\n",
    "            if x % i == 0:\n",
    "                return False\n",
    "        return True\n",
    "\n",
    "    return sum(i for i in range(2, n) if is_prime(i))\n"
   ]
  }
 ],
 "metadata": {
  "kernelspec": {
   "display_name": "Python 3 (ipykernel)",
   "language": "python",
   "name": "python3"
  },
  "language_info": {
   "codemirror_mode": {
    "name": "ipython",
    "version": 3
   },
   "file_extension": ".py",
   "mimetype": "text/x-python",
   "name": "python",
   "nbconvert_exporter": "python",
   "pygments_lexer": "ipython3",
   "version": "3.11.3"
  }
 },
 "nbformat": 4,
 "nbformat_minor": 5
}
