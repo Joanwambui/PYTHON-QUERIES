{
 "cells": [
  {
   "cell_type": "code",
   "execution_count": null,
   "id": "5ad8cec0",
   "metadata": {},
   "outputs": [],
   "source": [
    "import pandas as pd\n",
    "\n",
    "# Load the data into a DataFrame\n",
    "# forbes_global_2010_2014 = pd.read_csv('forbes_global_2010_2014.csv')  # if you're loading from a CSV\n",
    "\n",
    "# Filter the data for the 'Financials' sector\n",
    "financials_df = forbes_global_2010_2014[forbes_global_2010_2014['sector'] == 'Financials']\n",
    "\n",
    "# Get the maximum profits for the 'Financials' sector\n",
    "max_profits = financials_df['profits'].max()\n",
    "\n",
    "# Filter the companies with the maximum profits\n",
    "result = financials_df[financials_df['profits'] == max_profits][['company', 'continent']]\n",
    "\n",
    "print(result)\n"
   ]
  },
  {
   "cell_type": "code",
   "execution_count": null,
   "id": "50065a2f",
   "metadata": {},
   "outputs": [],
   "source": [
    "import pandas as pd\n",
    "import numpy as np\n",
    "\n",
    "finance_sector = forbes_global_2010_2014[forbes_global_2010_2014['sector']== 'Financials']\n",
    "finance_sector['rank'] = finance_sector['profits'].rank(method='min', ascending=False)\n",
    "result = finance_sector[finance_sector['rank'] == 1][['company','continent']]"
   ]
  }
 ],
 "metadata": {
  "kernelspec": {
   "display_name": "Python 3 (ipykernel)",
   "language": "python",
   "name": "python3"
  },
  "language_info": {
   "codemirror_mode": {
    "name": "ipython",
    "version": 3
   },
   "file_extension": ".py",
   "mimetype": "text/x-python",
   "name": "python",
   "nbconvert_exporter": "python",
   "pygments_lexer": "ipython3",
   "version": "3.11.3"
  }
 },
 "nbformat": 4,
 "nbformat_minor": 5
}
