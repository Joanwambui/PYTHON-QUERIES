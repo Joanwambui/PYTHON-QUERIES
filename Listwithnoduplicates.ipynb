
{
 "cells": [
  {
   "cell_type": "code",
   "execution_count": 11,
   "id": "5ef70f98",
   "metadata": {},
   "outputs": [
    {
     "name": "stdout",
     "output_type": "stream",
     "text": [
      "[21, 22, 9, 16, 17, 19]\n"
     ]
    }
   ],
   "source": [
    "import random\n",
    "\n",
    "def get_rand_list():\n",
    "    list_no=random.sample(range(30),random.randint(2,7))\n",
    "    return list_no\n",
    "    \n",
    "x = get_rand_list()\n",
    "print(x)"
   ]
  },
  {
   "cell_type": "code",
   "execution_count": 14,
   "id": "3dfb0cd4",
   "metadata": {},
   "outputs": [
    {
     "name": "stdout",
     "output_type": "stream",
     "text": [
      "[21, 22, 9, 16, 17, 19]\n"
     ]
    }
   ],
   "source": [
    "def no_random_():\n",
    "    y = []\n",
    "    for i in x:\n",
    "        if i not in y:\n",
    "            y.append(i)\n",
    "    return y\n",
    "\n",
    "# Assuming x is defined as in the previous function\n",
    "z = no_random_()\n",
    "print(z)\n"
   ]
  },
  {
   "cell_type": "code",
   "execution_count": null,
   "id": "45ad9c0e",
   "metadata": {},
   "outputs": [],
   "source": []
  }
 ],
 "metadata": {
  "kernelspec": {
   "display_name": "Python 3 (ipykernel)",
   "language": "python",
   "name": "python3"
  },
  "language_info": {
   "codemirror_mode": {
    "name": "ipython",
    "version": 3
   },
   "file_extension": ".py",
   "mimetype": "text/x-python",
   "name": "python",
   "nbconvert_exporter": "python",
   "pygments_lexer": "ipython3",
   "version": "3.11.3"
  }
 },
 "nbformat": 4,
 "nbformat_minor": 5
}
