{
 "cells": [
  {
   "cell_type": "code",
   "execution_count": 3,
   "id": "8d9b1c21",
   "metadata": {},
   "outputs": [
    {
     "name": "stdout",
     "output_type": "stream",
     "text": [
      "Please choose a string: omo\n",
      "It is a palindrome.\n"
     ]
    }
   ],
   "source": [
    "num = input(\"Please choose a string: \")\n",
    "\n",
    "def is_palindrome(s):\n",
    "    # Check if the string is equal to its reverse\n",
    "    return s == s[::-1]\n",
    "\n",
    "if is_palindrome(num):\n",
    "    print(\"It is a palindrome.\")\n",
    "else:\n",
    "    print(\"It is not a palindrome.\")\n"
   ]
  },
  {
   "cell_type": "code",
   "execution_count": null,
   "id": "71994e80",
   "metadata": {},
   "outputs": [],
   "source": []
  }
 ],
 "metadata": {
  "kernelspec": {
   "display_name": "Python 3 (ipykernel)",
   "language": "python",
   "name": "python3"
  },
  "language_info": {
   "codemirror_mode": {
    "name": "ipython",
    "version": 3
   },
   "file_extension": ".py",
   "mimetype": "text/x-python",
   "name": "python",
   "nbconvert_exporter": "python",
   "pygments_lexer": "ipython3",
   "version": "3.11.3"
  }
 },
 "nbformat": 4,
 "nbformat_minor": 5
}
