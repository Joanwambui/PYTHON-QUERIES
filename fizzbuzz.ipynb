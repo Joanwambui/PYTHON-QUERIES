
def fizz_buzz_sum(target):
    total = 0
    for num in range(target):
        if num % 3 == 0 or num % 5 == 0:
            total += num
    return total

# Example usage:
target_value = 10
result = fizz_buzz_sum(target_value)
print("Sum of all multiples of 3 or 5 below", target_value, "is:", result)
