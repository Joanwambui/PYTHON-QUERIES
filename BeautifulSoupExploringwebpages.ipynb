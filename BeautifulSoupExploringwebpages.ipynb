{
 "cells": [
  {
   "cell_type": "code",
   "execution_count": 16,
   "id": "a150f40e",
   "metadata": {},
   "outputs": [],
   "source": [
    "import requests\n",
    "from bs4 import BeautifulSoup\n",
    "\n",
    "base_url = \"http://www.vanityfair.com/society/2014/06/monica-lewinsky-humiliation-culture\"\n",
    "r = requests.get(base_url)\n",
    "soup = BeautifulSoup(r.text)\n",
    "\n",
    "all_p_cn_text_body = soup.select(\"div.parbase.cn_text > div.body > p\")\n",
    "\n",
    "for elem in all_p_cn_text_body[2:]:\n",
    "    print(elem.text)"
   ]
  },
  {
   "cell_type": "code",
   "execution_count": 24,
   "id": "0aff0edb",
   "metadata": {},
   "outputs": [],
   "source": [
    "import requests\n",
    "url = 'http://github.com'\n",
    "r = requests.get(url)\n",
    "r_html = r.text"
   ]
  },
  {
   "cell_type": "code",
   "execution_count": 25,
   "id": "51f6e4c5",
   "metadata": {},
   "outputs": [],
   "source": [
    "# import the requests Python library for programmatically making HTTP requests\n",
    "# after installing it according to these instructions: \n",
    "# http://docs.python-requests.org/en/latest/user/install/#install\n",
    "import requests\n",
    "\n",
    "# import the BeautifulSoup Python library according to these instructions: \n",
    "# http://www.crummy.com/software/BeautifulSoup/bs4/doc/#installing-beautiful-soup\n",
    "# use this syntax as described on the documentation page: \n",
    "# http://www.crummy.com/software/BeautifulSoup/bs4/doc/#making-the-soup\n",
    "from bs4 import BeautifulSoup\n",
    "\n",
    "# the URL of the NY Times website we want to parse\n",
    "base_url = 'http://www.nytimes.com'\n",
    "\n",
    "# the syntax (according to the documentation) for how to \n",
    "# \"load\" a webpage through Python\n",
    "r = requests.get(base_url)\n",
    "\n",
    "# how to decode the text of the HTML of the NY Times homepage\n",
    "# website. r comes from the requests request above\n",
    "soup = BeautifulSoup(r.text)\n",
    "\n",
    "# find and loop through all elements on the page with the \n",
    "# class name \"story-heading\"\n",
    "for story_heading in soup.find_all(class_=\"story-heading\"): \n",
    "    # for the story headings that are links, print out the text\n",
    "    # and format it nicely\n",
    "    # for the others, take the contents out and format it nicely\n",
    "    if story_heading.a: \n",
    "        print(story_heading.a.text.replace(\"\\n\", \" \").strip())\n",
    "    else: \n",
    "        print(story_heading.contents[0].strip())"
   ]
  },
  {
   "cell_type": "code",
   "execution_count": null,
   "id": "5603cfd3",
   "metadata": {},
   "outputs": [],
   "source": []
  }
 ],
 "metadata": {
  "kernelspec": {
   "display_name": "Python 3 (ipykernel)",
   "language": "python",
   "name": "python3"
  },
  "language_info": {
   "codemirror_mode": {
    "name": "ipython",
    "version": 3
   },
   "file_extension": ".py",
   "mimetype": "text/x-python",
   "name": "python",
   "nbconvert_exporter": "python",
   "pygments_lexer": "ipython3",
   "version": "3.11.3"
  }
 },
 "nbformat": 4,
 "nbformat_minor": 5
}
