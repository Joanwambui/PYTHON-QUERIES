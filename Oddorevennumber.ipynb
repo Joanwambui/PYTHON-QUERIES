{
 "cells": [
  {
   "cell_type": "code",
   "execution_count": 9,
   "id": "467aa984",
   "metadata": {},
   "outputs": [
    {
     "name": "stdout",
     "output_type": "stream",
     "text": [
      "enter an integer: 5\n",
      "its an odd number\n"
     ]
    }
   ],
   "source": [
    "user = int(input(\"enter an integer: \"))\n",
    "def odd_even(u):\n",
    "    if u%2 ==0: \n",
    "        return(\"its an even number\")\n",
    "    elif u%2 != 0:\n",
    "        return(\"its an odd number\")\n",
    "    \n",
    "print(odd_even(user))"
   ]
  },
  {
   "cell_type": "code",
   "execution_count": null,
   "id": "cdfcba7a",
   "metadata": {},
   "outputs": [],
   "source": []
  }
 ],
 "metadata": {
  "kernelspec": {
   "display_name": "Python 3 (ipykernel)",
   "language": "python",
   "name": "python3"
  },
  "language_info": {
   "codemirror_mode": {
    "name": "ipython",
    "version": 3
   },
   "file_extension": ".py",
   "mimetype": "text/x-python",
   "name": "python",
   "nbconvert_exporter": "python",
   "pygments_lexer": "ipython3",
   "version": "3.11.3"
  }
 },
 "nbformat": 4,
 "nbformat_minor": 5
}
