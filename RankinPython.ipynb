{
 "cells": [
  {
   "cell_type": "code",
   "execution_count": null,
   "id": "739c789a",
   "metadata": {},
   "outputs": [],
   "source": [
    "import pandas as pd\n",
    "import numpy as np\n",
    "\n",
    "result = ms_employee_salary.groupby(['id','first_name','last_name','department_id'])['salary'].max().reset_index().sort_values('id')\n",
    "\n",
    "with cte as (\n",
    "SELECT *, \n",
    "       RANK() OVER (PARTITION BY first_name, last_name ORDER BY salary DESC) AS rank\n",
    "FROM ms_employee_salary\n",
    ")\n",
    "\n",
    "SELECT id, first_name, last_name, department_id, salary\n",
    "FROM cte\n",
    "WHERE rank = 1\n",
    "ORDER BY id ASC"
   ]
  }
 ],
 "metadata": {
  "kernelspec": {
   "display_name": "Python 3 (ipykernel)",
   "language": "python",
   "name": "python3"
  },
  "language_info": {
   "codemirror_mode": {
    "name": "ipython",
    "version": 3
   },
   "file_extension": ".py",
   "mimetype": "text/x-python",
   "name": "python",
   "nbconvert_exporter": "python",
   "pygments_lexer": "ipython3",
   "version": "3.11.3"
  }
 },
 "nbformat": 4,
 "nbformat_minor": 5
}
