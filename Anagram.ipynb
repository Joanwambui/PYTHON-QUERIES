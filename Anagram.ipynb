{
 "cells": [
  {
   "cell_type": "code",
   "execution_count": 19,
   "id": "37a5e73d",
   "metadata": {},
   "outputs": [
    {
     "name": "stdout",
     "output_type": "stream",
     "text": [
      "Is 'party' an anagram of 'dusty'? False\n"
     ]
    }
   ],
   "source": [
    "def is_anagram(left, right):\n",
    "    left_letters = sorted(left)\n",
    "    right_letters = sorted(right)\n",
    "    return left_letters == right_letters\n",
    "\n",
    "left = \"party\"\n",
    "right = \"dusty\"\n",
    "y = is_anagram(left, right)\n",
    "print(f\"Is '{left}' an anagram of '{right}'? {y}\")\n"
   ]
  },
  {
   "cell_type": "code",
   "execution_count": null,
   "id": "68d81664",
   "metadata": {},
   "outputs": [],
   "source": []
  }
 ],
 "metadata": {
  "kernelspec": {
   "display_name": "Python 3 (ipykernel)",
   "language": "python",
   "name": "python3"
  },
  "language_info": {
   "codemirror_mode": {
    "name": "ipython",
    "version": 3
   },
   "file_extension": ".py",
   "mimetype": "text/x-python",
   "name": "python",
   "nbconvert_exporter": "python",
   "pygments_lexer": "ipython3",
   "version": "3.11.3"
  }
 },
 "nbformat": 4,
 "nbformat_minor": 5
}
