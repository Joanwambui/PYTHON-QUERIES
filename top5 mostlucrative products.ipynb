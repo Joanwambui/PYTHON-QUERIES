{
 "cells": [
  {
   "cell_type": "code",
   "execution_count": null,
   "id": "c803b15b",
   "metadata": {},
   "outputs": [],
   "source": [
    "# Import your libraries\n",
    "import pandas as pd\n",
    "# Ensure the 'date' column is in datetime format\n",
    "online_orders['date'] = pd.to_datetime(online_orders['date'])\n",
    "\n",
    "# Extract the month from the 'date' column\n",
    "online_orders['month'] = online_orders['date'].dt.month\n",
    "\n",
    "# Start writing code\n",
    "\n",
    "online_orders['total'] = online_orders['cost_in_dollars']*online_orders['units_sold']\n",
    "\n",
    "online_orders.head(20)\n",
    "#results = online_orders.groupby('product_id')[['product_id','total']]\n",
    "# Filter rows for months between 1 and 6 before grouping\n",
    "filtered_orders = online_orders[(online_orders['month'] >= 1) & (online_orders['month'] <= 6)]\n",
    "\n",
    "# Group by 'product_id' and calculate the sum of 'total'\n",
    "results = filtered_orders.groupby('product_id')['total'].sum().reset_index()\n",
    "top_5_results = results.sort_values(by='total', ascending=False).head(5)\n"
   ]
  }
 ],
 "metadata": {
  "kernelspec": {
   "display_name": "Python 3 (ipykernel)",
   "language": "python",
   "name": "python3"
  },
  "language_info": {
   "codemirror_mode": {
    "name": "ipython",
    "version": 3
   },
   "file_extension": ".py",
   "mimetype": "text/x-python",
   "name": "python",
   "nbconvert_exporter": "python",
   "pygments_lexer": "ipython3",
   "version": "3.11.3"
  }
 },
 "nbformat": 4,
 "nbformat_minor": 5
}
