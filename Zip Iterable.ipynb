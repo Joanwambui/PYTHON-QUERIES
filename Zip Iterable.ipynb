{
 "cells": [
  {
   "cell_type": "code",
   "execution_count": null,
   "id": "fca185f7",
   "metadata": {},
   "outputs": [],
   "source": [
    "# Enter your code here. Read input from STDIN. Print output to STDOUT\n",
    "num_students, num_subjects = map(int, input().split())\n",
    "# print(num_students, num_subjects)\n",
    "ls = []\n",
    "for i in range(num_subjects):\n",
    "    s1 = list(map(float, input().split()))\n",
    "    ls.append(s1)\n",
    "zipped = list(zip(*ls))\n",
    "# print(list(zipped))\n",
    "\n",
    "# print(zipped[0])\n",
    "\n",
    "for i in range(num_students):\n",
    "    avg = sum(list(zipped[i])) / num_subjects\n",
    "    print(avg)"
   ]
  },
  {
   "cell_type": "code",
   "execution_count": null,
   "id": "e4d23b45",
   "metadata": {},
   "outputs": [],
   "source": [
    "Student ID → ___1_____2_____3_____4_____5__               \n",
    "Subject 1   |  89    90    78    93    80\n",
    "Subject 2   |  90    91    85    88    86  \n",
    "Subject 3   |  91    92    83    89    90.5\n",
    "            |______________________________\n",
    "Average        90    91    82    90    85.5 "
   ]
  },
  {
   "cell_type": "code",
   "execution_count": null,
   "id": "057f7318",
   "metadata": {},
   "outputs": [],
   "source": [
    "The National University conducts an examination of  students in  subjects.\n",
    "Your task is to compute the average scores of each student.\n"
   ]
  }
 ],
 "metadata": {
  "kernelspec": {
   "display_name": "Python 3 (ipykernel)",
   "language": "python",
   "name": "python3"
  },
  "language_info": {
   "codemirror_mode": {
    "name": "ipython",
    "version": 3
   },
   "file_extension": ".py",
   "mimetype": "text/x-python",
   "name": "python",
   "nbconvert_exporter": "python",
   "pygments_lexer": "ipython3",
   "version": "3.11.3"
  }
 },
 "nbformat": 4,
 "nbformat_minor": 5
}
