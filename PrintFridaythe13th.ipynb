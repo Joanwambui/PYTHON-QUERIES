{
 "cells": [
  {
   "cell_type": "code",
   "execution_count": 10,
   "id": "1253a685",
   "metadata": {},
   "outputs": [],
   "source": [
    "import datetime\n",
    "\n",
    "def friday_the_13th():\n",
    "    # Get today's date\n",
    "    today = datetime.date.today()\n",
    "    \n",
    "    # Start checking from today\n",
    "    current_date = today\n",
    "    \n",
    "    # Loop until we find a Friday the 13th\n",
    "    while True:\n",
    "        # Check if it's the 13th and a Friday\n",
    "        if current_date.day == 13 and current_date.weekday() == 4:  # weekday() == 4 is Friday\n",
    "            return current_date.strftime('%Y-%m-%d')\n",
    "        \n",
    "        # Move to the next day\n",
    "        current_date += datetime.timedelta(days=1)\n",
    "\n",
    "# Example usage\n",
    "print(friday_the_13th())\n"
   ]
  },
  {
   "cell_type": "code",
   "execution_count": null,
   "id": "051183d0",
   "metadata": {},
   "outputs": [],
   "source": []
  }
 ],
 "metadata": {
  "kernelspec": {
   "display_name": "Python 3 (ipykernel)",
   "language": "python",
   "name": "python3"
  },
  "language_info": {
   "codemirror_mode": {
    "name": "ipython",
    "version": 3
   },
   "file_extension": ".py",
   "mimetype": "text/x-python",
   "name": "python",
   "nbconvert_exporter": "python",
   "pygments_lexer": "ipython3",
   "version": "3.11.3"
  }
 },
 "nbformat": 4,
 "nbformat_minor": 5
}
