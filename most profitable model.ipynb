{
 "cells": [
  {
   "cell_type": "code",
   "execution_count": null,
   "id": "be49aff7",
   "metadata": {},
   "outputs": [],
   "source": [
    "tesla_mod\n",
    "\n",
    "SELECT TOP 1 tesla_model, car_price, cars_sold, production_cost, \n",
    "    CAST((CAST(car_price AS DECIMAL(18, 2)) - CAST(production_cost AS DECIMAL(18, 2))) * CAST(cars_sold AS DECIMAL(18, 2)) AS DECIMAL(18, 2)) AS profit\n",
    "FROM tesla_models\n",
    "ORDER BY profit DESC;\n",
    "els['profit'] = (tesla_models['car_price'] - tesla_models['production_cost']) * tesla_models['cars_sold']\n",
    "\n",
    "sorted_df = tesla_models.sort_values(by='profit', ascending=False)\n",
    "\n",
    "result = sorted_df.head(1)\n",
    "\n",
    "result\n",
    "\n",
    "SELECT TOP 1 tesla_model, car_price, cars_sold, production_cost, \n",
    "    CAST((CAST(car_price AS DECIMAL(18, 2)) - CAST(production_cost AS DECIMAL(18, 2))) * CAST(cars_sold AS DECIMAL(18, 2)) AS DECIMAL(18, 2)) AS profit\n",
    "FROM tesla_models\n",
    "ORDER BY profit DESC;\n"
   ]
  }
 ],
 "metadata": {
  "kernelspec": {
   "display_name": "Python 3 (ipykernel)",
   "language": "python",
   "name": "python3"
  },
  "language_info": {
   "codemirror_mode": {
    "name": "ipython",
    "version": 3
   },
   "file_extension": ".py",
   "mimetype": "text/x-python",
   "name": "python",
   "nbconvert_exporter": "python",
   "pygments_lexer": "ipython3",
   "version": "3.11.3"
  }
 },
 "nbformat": 4,
 "nbformat_minor": 5
}
