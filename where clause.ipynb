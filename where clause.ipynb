{
 "cells": [
  {
   "cell_type": "code",
   "execution_count": null,
   "id": "e5ff7f6f",
   "metadata": {},
   "outputs": [],
   "source": [
    "linkedin_posts['Popularity_Score'] = linkedin_posts['actions'] / linkedin_posts['impressions'] * 100\n",
    "\n",
    "popular_posts = linkedin_posts[linkedin_posts['Popularity_Score'] >= 1][['post_id','Popularity_Score']]\n",
    "\n",
    "\n",
    "popular_posts.sort_values(by = 'Popularity_Score',ascending = False)\n",
    "\n",
    "\n",
    "SELECT post_id, (CAST(actions AS DECIMAL) / impressions * 100) AS popularity\n",
    "FROM linkedin_posts\n",
    "WHERE (CAST(actions AS DECIMAL) / impressions * 100) >= 1.0\n",
    "ORDER BY popularity DESC;"
   ]
  }
 ],
 "metadata": {
  "kernelspec": {
   "display_name": "Python 3 (ipykernel)",
   "language": "python",
   "name": "python3"
  },
  "language_info": {
   "codemirror_mode": {
    "name": "ipython",
    "version": 3
   },
   "file_extension": ".py",
   "mimetype": "text/x-python",
   "name": "python",
   "nbconvert_exporter": "python",
   "pygments_lexer": "ipython3",
   "version": "3.11.3"
  }
 },
 "nbformat": 4,
 "nbformat_minor": 5
}
