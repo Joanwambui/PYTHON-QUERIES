{
 "cells": [
  {
   "cell_type": "code",
   "execution_count": 1,
   "id": "367b25f5",
   "metadata": {},
   "outputs": [],
   "source": [
    "def max_of_three(a, b, c):\n",
    "    if a > b and a > c:\n",
    "        return a\n",
    "    elif b > c:\n",
    "        return b\n",
    "    else:\n",
    "        return c\n"
   ]
  },
  {
   "cell_type": "code",
   "execution_count": 6,
   "id": "c3856785",
   "metadata": {},
   "outputs": [
    {
     "name": "stdout",
     "output_type": "stream",
     "text": [
      "5\n"
     ]
    }
   ],
   "source": [
    "a=3\n",
    "b=5\n",
    "c=2\n",
    "print (max_of_three(a,b,c))"
   ]
  },
  {
   "cell_type": "code",
   "execution_count": 8,
   "id": "41a9bb2a",
   "metadata": {},
   "outputs": [
    {
     "name": "stdout",
     "output_type": "stream",
     "text": [
      "    Eggs\n",
      "0    Cow\n",
      "1  Snake\n",
      "2  House\n",
      "3    Car\n",
      "4   Road\n"
     ]
    }
   ],
   "source": [
    "\n",
    "import pandas as pd\n",
    "\n",
    "# Correct file path with raw string\n",
    "file_path = r\"C:\\Users\\digit\\Downloads\\Randomwords.txt\"\n",
    "\n",
    "# Load the data into a DataFrame, assuming it's a CSV file\n",
    "data = pd.read_csv(file_path)\n",
    "\n",
    "\n",
    "print(data.head())\n"
   ]
  },
  {
   "cell_type": "code",
   "execution_count": 13,
   "id": "990568d8",
   "metadata": {},
   "outputs": [
    {
     "name": "stdout",
     "output_type": "stream",
     "text": [
      "House\n"
     ]
    }
   ],
   "source": [
    "random_word = random.choice(data['Eggs'])\n",
    "\n",
    "print(random_word)"
   ]
  },
  {
   "cell_type": "code",
   "execution_count": 14,
   "id": "21b98a94",
   "metadata": {},
   "outputs": [
    {
     "name": "stdout",
     "output_type": "stream",
     "text": [
      "Random word:  House\n"
     ]
    }
   ],
   "source": [
    "  # import the random library\n",
    "  import random\n",
    "\n",
    "  # read all the list of words\n",
    "  words = []\n",
    "  with open('Randomwords.txt', 'r') as f:\n",
    "    line = f.readline().strip()\n",
    "    words.append(line)\n",
    "    while line:\n",
    "      line = f.readline().strip()\n",
    "      words.append(line)\n",
    "\n",
    "  # generate a random number\n",
    "  random_index = random.randint(0, len(words))\n",
    "\n",
    "  # take the word\n",
    "  print(\"Random word: \", words[random_index])"
   ]
  },
  {
   "cell_type": "code",
   "execution_count": null,
   "id": "d2c30412",
   "metadata": {},
   "outputs": [],
   "source": []
  }
 ],
 "metadata": {
  "kernelspec": {
   "display_name": "Python 3 (ipykernel)",
   "language": "python",
   "name": "python3"
  },
  "language_info": {
   "codemirror_mode": {
    "name": "ipython",
    "version": 3
   },
   "file_extension": ".py",
   "mimetype": "text/x-python",
   "name": "python",
   "nbconvert_exporter": "python",
   "pygments_lexer": "ipython3",
   "version": "3.11.3"
  }
 },
 "nbformat": 4,
 "nbformat_minor": 5
}
