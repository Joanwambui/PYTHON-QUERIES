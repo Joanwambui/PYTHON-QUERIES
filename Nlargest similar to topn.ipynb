{
 "cells": [
  {
   "cell_type": "code",
   "execution_count": null,
   "id": "90f73a52",
   "metadata": {},
   "outputs": [],
   "source": [
    "most_spent = food_regions.groupby('region')['fast_food_millions'].sum().reset_index().nlargest(1, 'fast_food_millions')\n",
    "\n",
    "most_spent[['region']]\n",
    "\n",
    "WITH food_regions_grouped AS (\n",
    "SELECT TOP 1 region, SUM(fast_food_millions) AS total_spending\n",
    "FROM food_regions\n",
    "GROUP BY region\n",
    "ORDER BY total_spending DESC \n",
    "  )\n",
    "SELECT region\n",
    "  FROM food_regions_grouped;"
   ]
  }
 ],
 "metadata": {
  "kernelspec": {
   "display_name": "Python 3 (ipykernel)",
   "language": "python",
   "name": "python3"
  },
  "language_info": {
   "codemirror_mode": {
    "name": "ipython",
    "version": 3
   },
   "file_extension": ".py",
   "mimetype": "text/x-python",
   "name": "python",
   "nbconvert_exporter": "python",
   "pygments_lexer": "ipython3",
   "version": "3.11.3"
  }
 },
 "nbformat": 4,
 "nbformat_minor": 5
}
