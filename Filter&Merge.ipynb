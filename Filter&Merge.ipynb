{
 "cells": [
  {
   "cell_type": "code",
   "execution_count": null,
   "id": "f3673161",
   "metadata": {},
   "outputs": [],
   "source": [
    "# Import your libraries\n",
    "import pandas as pd\n",
    "\n",
    "# Start writing code\n",
    "#facebook_reactions.head()\n",
    "\n",
    "heart_reactions = facebook_reactions[facebook_reactions['reaction'] == 'heart']\n",
    "\n",
    "print(heart_reactions)"
   ]
  },
  {
   "cell_type": "code",
   "execution_count": null,
   "id": "412019c0",
   "metadata": {},
   "outputs": [],
   "source": [
    "import pandas as pd\n",
    "import numpy as np\n",
    "\n",
    "heart = facebook_reactions[facebook_reactions['reaction'] == 'heart'][['post_id']]\n",
    "result = pd.merge(heart,facebook_posts,on='post_id').drop_duplicates(subset = 'post_id')\n"
   ]
  }
 ],
 "metadata": {
  "kernelspec": {
   "display_name": "Python 3 (ipykernel)",
   "language": "python",
   "name": "python3"
  },
  "language_info": {
   "codemirror_mode": {
    "name": "ipython",
    "version": 3
   },
   "file_extension": ".py",
   "mimetype": "text/x-python",
   "name": "python",
   "nbconvert_exporter": "python",
   "pygments_lexer": "ipython3",
   "version": "3.11.3"
  }
 },
 "nbformat": 4,
 "nbformat_minor": 5
}
