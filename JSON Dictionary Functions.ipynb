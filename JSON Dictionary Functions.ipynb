{
 "cells": [
  {
   "cell_type": "code",
   "execution_count": null,
   "id": "fffe26d8",
   "metadata": {},
   "outputs": [],
   "source": [
    "import json\n",
    "\n",
    "birthday = {}\n",
    "with open('birthdays.json', 'r') as f:\n",
    "          birthday = json.load(f)\n",
    "\n",
    "def add_entry():\n",
    "    name = input('Who do you want to add to the Birthday Dictionnary?\\n').title()\n",
    "    date = input('When is {} born?\\n'.format(name))\n",
    "    birthday[name] = date\n",
    "    with open('birthdays.json', 'w') as f:\n",
    "        json.dump(birthday, f)\n",
    "    print('{} was added to my birthday list\\n'.format(name))\n",
    "\n",
    "def find_date():\n",
    "    name = input(\"who's birthday do you want to know?\\n\").title()\n",
    "    try :\n",
    "        if birthday[name]:\n",
    "            print('{} is born on {}\\n'.format(name, birthday[name]))\n",
    "    except KeyError:\n",
    "        print('{} is not in the list\\n'.format(name))\n",
    "\n",
    "def list_entries():\n",
    "    print('The current entries in my birthday list are:\\n============================================')\n",
    "    for key in birthday:\n",
    "        print(key.ljust(31), ':', birthday[key])\n",
    "    print()\n",
    "\n",
    "while True:\n",
    "    what_next = input('What do you want to do next? you can: Add, Find, List, Quit\\n').capitalize()\n",
    "    if what_next == 'Quit':\n",
    "        print('Good Bye')\n",
    "        raise SystemExit(0)\n",
    "    elif what_next == 'Add':\n",
    "        add_entry()\n",
    "    elif what_next == 'Find':\n",
    "        find_date()\n",
    "    elif what_next == 'List':\n",
    "        list_entries()"
   ]
  }
 ],
 "metadata": {
  "kernelspec": {
   "display_name": "Python 3 (ipykernel)",
   "language": "python",
   "name": "python3"
  },
  "language_info": {
   "codemirror_mode": {
    "name": "ipython",
    "version": 3
   },
   "file_extension": ".py",
   "mimetype": "text/x-python",
   "name": "python",
   "nbconvert_exporter": "python",
   "pygments_lexer": "ipython3",
   "version": "3.11.3"
  }
 },
 "nbformat": 4,
 "nbformat_minor": 5
}
