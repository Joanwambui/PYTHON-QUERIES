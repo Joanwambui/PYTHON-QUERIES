{
 "cells": [
  {
   "cell_type": "code",
   "execution_count": null,
   "id": "026f45ee",
   "metadata": {},
   "outputs": [],
   "source": [
    "discount_customers = customers[(customers['age'] > 65) | (customers['total_purchase'] > 200)]\n",
    "\n",
    "discount_customers.shape[0]\n",
    "\n",
    "\n",
    "SELECT COUNT(*)\n",
    "FROM customers\n",
    "WHERE age > 65 OR total_purchase > 200;"
   ]
  }
 ],
 "metadata": {
  "kernelspec": {
   "display_name": "Python 3 (ipykernel)",
   "language": "python",
   "name": "python3"
  },
  "language_info": {
   "codemirror_mode": {
    "name": "ipython",
    "version": 3
   },
   "file_extension": ".py",
   "mimetype": "text/x-python",
   "name": "python",
   "nbconvert_exporter": "python",
   "pygments_lexer": "ipython3",
   "version": "3.11.3"
  }
 },
 "nbformat": 4,
 "nbformat_minor": 5
}
